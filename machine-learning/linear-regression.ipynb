{
 "cells": [
  {
   "cell_type": "code",
   "execution_count": 1,
   "metadata": {},
   "outputs": [],
   "source": [
    "import numpy as np\n",
    "import pandas as pd\n",
    "import matplotlib.pyplot as plt\n",
    "\n",
    "SEED = 143\n",
    "NUM_SAMPLES = 50"
   ]
  },
  {
   "cell_type": "code",
   "execution_count": 2,
   "metadata": {},
   "outputs": [],
   "source": [
    "np.random.seed(SEED)"
   ]
  },
  {
   "cell_type": "code",
   "execution_count": 3,
   "metadata": {},
   "outputs": [],
   "source": [
    "def generate_synthetic_data(n_samples):\n",
    "    \"\"\"generate dummy data for linear regression\"\"\"\n",
    "    X = np.array(range(n_samples))\n",
    "    random_noise = np.random.uniform(-10, 20, size=n_samples)\n",
    "    y = 3.5*X + random_noise\n",
    "    return X, y"
   ]
  },
  {
   "cell_type": "code",
   "execution_count": 8,
   "metadata": {},
   "outputs": [
    {
     "name": "stdout",
     "output_type": "stream",
     "text": [
      "[[ 0.         19.33066147]\n",
      " [ 1.         10.59058592]\n",
      " [ 2.         -0.32317836]\n",
      " [ 3.         19.00719486]\n",
      " [ 4.         13.15270727]]\n"
     ]
    }
   ],
   "source": [
    "X, y = generate_synthetic_data(NUM_SAMPLES)\n",
    "data = np.vstack([X, y]).T\n",
    "print(data[:5])"
   ]
  },
  {
   "cell_type": "code",
   "execution_count": 23,
   "metadata": {},
   "outputs": [
    {
     "name": "stdout",
     "output_type": "stream",
     "text": [
      "     X          y\n",
      "0  0.0  19.330661\n",
      "1  1.0  10.590586\n",
      "2  2.0  -0.323178\n",
      "3  3.0  19.007195\n",
      "4  4.0  13.152707\n"
     ]
    }
   ],
   "source": [
    "df = pd.DataFrame(data, columns = [\"X\", \"y\"])\n",
    "print(df.head())\n",
    "X = df[[\"X\"]].values\n",
    "y = df[[\"y\"]].values"
   ]
  },
  {
   "cell_type": "code",
   "execution_count": 24,
   "metadata": {},
   "outputs": [
    {
     "data": {
      "text/plain": [
       "Text(0.5, 0, 'X')"
      ]
     },
     "execution_count": 24,
     "metadata": {},
     "output_type": "execute_result"
    },
    {
     "data": {
      "image/png": "[encoded data removed]",
      "text/plain": [
       "<Figure size 640x480 with 1 Axes>"
      ]
     },
     "metadata": {},
     "output_type": "display_data"
    }
   ],
   "source": [
    "plt.scatter(X, y)\n",
    "plt.title(\"Generated Synthetic Data\")\n",
    "plt.ylabel(\"y\")\n",
    "plt.xlabel(\"X\")"
   ]
  },
  {
   "cell_type": "code",
   "execution_count": 25,
   "metadata": {},
   "outputs": [],
   "source": [
    "TRAIN_SIZE = 0.7\n",
    "VAL_SIZE = 0.15\n",
    "TEST_SIZE = 0.15"
   ]
  },
  {
   "cell_type": "code",
   "execution_count": 27,
   "metadata": {},
   "outputs": [],
   "source": [
    "# Shuffle data\n",
    "indices = list(range(NUM_SAMPLES))\n",
    "np.random.shuffle(indices)\n",
    "X = X[indices]\n",
    "y = y[indices]\n"
   ]
  },
  {
   "cell_type": "code",
   "execution_count": 28,
   "metadata": {},
   "outputs": [],
   "source": [
    "train_start = 0\n",
    "train_end = int(0.7*NUM_SAMPLES)\n",
    "val_start = train_end\n",
    "val_end = int((TRAIN_SIZE+VAL_SIZE)*NUM_SAMPLES)\n",
    "test_start = val_end"
   ]
  },
  {
   "cell_type": "code",
   "execution_count": 29,
   "metadata": {},
   "outputs": [
    {
     "name": "stdout",
     "output_type": "stream",
     "text": [
      "X_train shape: (35, 1), y_train shape: (35, 1)\n",
      "X_val shape: (7, 1), y_val shape: (7, 1)\n",
      "X_test shape: (8, 1), y_test shape: (8, 1)\n"
     ]
    }
   ],
   "source": [
    "X_train = X[train_start:train_end]\n",
    "y_train = y[train_start:train_end]\n",
    "\n",
    "X_val = X[val_start:val_end]\n",
    "y_val = y[val_start:val_end]\n",
    "\n",
    "X_test = X[test_start:]\n",
    "y_test = y[test_start:]\n",
    "\n",
    "print(f\"X_train shape: {X_train.shape}, y_train shape: {y_train.shape}\")\n",
    "print(f\"X_val shape: {X_val.shape}, y_val shape: {y_val.shape}\")\n",
    "print(f\"X_test shape: {X_test.shape}, y_test shape: {y_test.shape}\")"
   ]
  },
  {
   "cell_type": "code",
   "execution_count": 30,
   "metadata": {},
   "outputs": [],
   "source": [
    "def standardize_data(data):\n",
    "    mu = np.mean(data)\n",
    "    sigma = np.std(data)\n",
    "    return (data - mu)/sigma"
   ]
  },
  {
   "cell_type": "code",
   "execution_count": 73,
   "metadata": {},
   "outputs": [],
   "source": [
    "X_mu = np.mean(X)\n",
    "X_std = np.std(X)\n",
    "\n",
    "y_mu = np.mean(y)\n",
    "y_std = np.std(y)"
   ]
  },
  {
   "cell_type": "code",
   "execution_count": 32,
   "metadata": {},
   "outputs": [],
   "source": [
    "X_train = standardize_data(X_train)\n",
    "y_train = standardize_data(y_train)\n",
    "\n",
    "X_val = standardize_data(X_val)\n",
    "y_val = standardize_data(y_val)\n",
    "\n",
    "X_test = standardize_data(X_test)\n",
    "y_test = standardize_data(y_test)"
   ]
  },
  {
   "cell_type": "code",
   "execution_count": 40,
   "metadata": {},
   "outputs": [
    {
     "name": "stdout",
     "output_type": "stream",
     "text": [
      "Mu X_train: 0.0, Sigma X_train: 1.0\n",
      "Mu y_train: -0.0, Sigma y_train: 1.0\n",
      "Mu X_val: -0.0, Sigma X_val: 1.0\n",
      "Mu y_val: 0.0, Sigma y_val: 1.0\n",
      "Mu X_test: 0.0, Sigma X_test: 1.0\n",
      "Mu y_test: 0.0, Sigma y_test: 1.0\n"
     ]
    }
   ],
   "source": [
    "print(f\"Mu X_train: {round(np.mean(X_train, axis=0)[0], 2)}, Sigma X_train: {round(np.std(X_train, axis=0)[0], 2)}\")\n",
    "print(f\"Mu y_train: {round(np.mean(y_train, axis=0)[0], 2)}, Sigma y_train: {round(np.std(y_train, axis=0)[0], 2)}\")\n",
    "\n",
    "print(f\"Mu X_val: {round(np.mean(X_val, axis=0)[0], 2)}, Sigma X_val: {round(np.std(X_val, axis=0)[0], 2)}\")\n",
    "print(f\"Mu y_val: {round(np.mean(y_val, axis=0)[0], 2)}, Sigma y_val: {round(np.std(y_val, axis=0)[0], 2)}\")\n",
    "\n",
    "print(f\"Mu X_test: {round(np.mean(X_test, axis=0)[0], 2)}, Sigma X_test: {round(np.std(X_test, axis=0)[0], 2)}\")\n",
    "print(f\"Mu y_test: {round(np.mean(y_test, axis=0)[0], 2)}, Sigma y_test: {round(np.std(y_test, axis=0)[0], 2)}\")"
   ]
  },
  {
   "cell_type": "code",
   "execution_count": 41,
   "metadata": {},
   "outputs": [],
   "source": [
    "INPUT_DIM = X_train.shape[1]\n",
    "OUTPUT_DIM = y_train.shape[1]"
   ]
  },
  {
   "cell_type": "code",
   "execution_count": 46,
   "metadata": {},
   "outputs": [
    {
     "name": "stdout",
     "output_type": "stream",
     "text": [
      "W: shape: (1, 1)\n",
      "b: shape: (1, 1)\n"
     ]
    }
   ],
   "source": [
    "W = 0.01*np.random.randn(INPUT_DIM, OUTPUT_DIM)\n",
    "b = np.zeros((1,1))\n",
    "print(f\"W: shape: {W.shape}\")\n",
    "print(f\"b: shape: {b.shape}\")"
   ]
  },
  {
   "cell_type": "code",
   "execution_count": 48,
   "metadata": {},
   "outputs": [
    {
     "name": "stdout",
     "output_type": "stream",
     "text": [
      "y_pred shape: (35, 1)\n"
     ]
    }
   ],
   "source": [
    "y_pred = np.dot(X_train, W) + b\n",
    "print(f\"y_pred shape: {y_pred.shape}\")"
   ]
  },
  {
   "cell_type": "code",
   "execution_count": 50,
   "metadata": {},
   "outputs": [
    {
     "name": "stdout",
     "output_type": "stream",
     "text": [
      "Training Loss: 0.98\n"
     ]
    }
   ],
   "source": [
    "# loss\n",
    "N = len(y_train)\n",
    "loss = (1/N)*np.sum((y_train - y_pred)**2)\n",
    "print(f\"Training Loss: {loss:.2f}\")"
   ]
  },
  {
   "cell_type": "code",
   "execution_count": 51,
   "metadata": {},
   "outputs": [],
   "source": [
    "dW = -(2/N)*np.sum((y_train - y_pred)*X_train)\n",
    "db = -(2/N)*np.sum((y_train - y_pred)*1)"
   ]
  },
  {
   "cell_type": "code",
   "execution_count": 53,
   "metadata": {},
   "outputs": [],
   "source": [
    "LEARNING_RATE = 1e-1"
   ]
  },
  {
   "cell_type": "code",
   "execution_count": 54,
   "metadata": {},
   "outputs": [],
   "source": [
    "W = W - LEARNING_RATE*dW\n",
    "b = b - LEARNING_RATE*db"
   ]
  },
  {
   "cell_type": "code",
   "execution_count": 55,
   "metadata": {},
   "outputs": [],
   "source": [
    "NUM_EPOCHS = 100"
   ]
  },
  {
   "cell_type": "code",
   "execution_count": 57,
   "metadata": {},
   "outputs": [
    {
     "name": "stdout",
     "output_type": "stream",
     "text": [
      "Epoch 0: Loss: 0.989\n",
      "Epoch 10: Loss: 0.041\n",
      "Epoch 20: Loss: 0.030\n",
      "Epoch 30: Loss: 0.030\n",
      "Epoch 40: Loss: 0.030\n",
      "Epoch 50: Loss: 0.030\n",
      "Epoch 60: Loss: 0.030\n",
      "Epoch 70: Loss: 0.030\n",
      "Epoch 80: Loss: 0.030\n",
      "Epoch 90: Loss: 0.030\n"
     ]
    }
   ],
   "source": [
    "W = 0.01* np.random.randn(INPUT_DIM, OUTPUT_DIM)\n",
    "b = np.zeros((1, ))\n",
    "\n",
    "for epoch_num in range(NUM_EPOCHS):\n",
    "    \n",
    "    y_pred = np.dot(X_train, W) + b\n",
    "\n",
    "    loss = (1/len(y_train))*np.sum((y_train - y_pred)**2)\n",
    "\n",
    "    if epoch_num%10 == 0:\n",
    "        print(f\"Epoch {epoch_num}: Loss: {loss:.3f}\")\n",
    "\n",
    "    dW = -(2/len(y_train))*np.sum((y_train - y_pred)*X_train)\n",
    "    db = -(2/len(y_train))*np.sum((y_train - y_pred)*1)\n",
    "\n",
    "    W -= LEARNING_RATE*dW\n",
    "    b -= LEARNING_RATE*db\n"
   ]
  },
  {
   "cell_type": "code",
   "execution_count": 58,
   "metadata": {},
   "outputs": [],
   "source": [
    "pred_train = W*X_train + b\n",
    "pred_val = W*X_val + b\n",
    "pred_test = W*X_test + b"
   ]
  },
  {
   "cell_type": "code",
   "execution_count": 60,
   "metadata": {},
   "outputs": [
    {
     "name": "stdout",
     "output_type": "stream",
     "text": [
      "Train MSE: 0.030, Val MSE: 0.027, Test MSE: 0.041\n"
     ]
    }
   ],
   "source": [
    "train_mse = np.mean((y_train - pred_train)**2)\n",
    "val_mse = np.mean((y_val - pred_val)**2)\n",
    "test_mse = np.mean((y_test - pred_test)**2)\n",
    "\n",
    "print(f\"Train MSE: {train_mse:.3f}, Val MSE: {val_mse:.3f}, Test MSE: {test_mse:.3f}\")"
   ]
  },
  {
   "cell_type": "code",
   "execution_count": 72,
   "metadata": {},
   "outputs": [
    {
     "data": {
      "image/png": "[encoded data removed]",
      "text/plain": [
       "<Figure size 900x300 with 3 Axes>"
      ]
     },
     "metadata": {},
     "output_type": "display_data"
    }
   ],
   "source": [
    "plt.figure(figsize=(9, 3))\n",
    "\n",
    "plt.subplot(1,3,1)\n",
    "plt.scatter(X_train, y_train, label=\"y_train\")\n",
    "plt.plot(pred_train, X_train, color=\"red\", linewidth=1, linestyle=\"-\", label=\"model\")\n",
    "plt.title(\"Train\")\n",
    "plt.legend()\n",
    "\n",
    "plt.subplot(1,3,3)\n",
    "plt.scatter(X_val, y_val, label=\"y_val\")\n",
    "plt.plot(pred_val, X_val, color=\"red\", linewidth=1, linestyle=\"-\", label=\"model\")\n",
    "plt.title(\"Val\")\n",
    "plt.legend()\n",
    "\n",
    "plt.subplot(1,3,2)\n",
    "plt.scatter(X_test, y_test, label=\"y_test\")\n",
    "plt.plot(pred_test, X_test, color=\"red\", linewidth=1, linestyle=\"-\", label=\"model\")\n",
    "plt.title(\"Test\")\n",
    "plt.legend()\n",
    "\n",
    "plt.show()"
   ]
  },
  {
   "cell_type": "code",
   "execution_count": 80,
   "metadata": {},
   "outputs": [
    {
     "name": "stdout",
     "output_type": "stream",
     "text": [
      "Initial Model -> y = 3.5X + 0.0\n",
      "Final Model -> y = 3.499X + 4.687\n"
     ]
    }
   ],
   "source": [
    "W_unscaled = W * (y_std/X_std)\n",
    "b_unscaled = b * y_std + y_mu - np.sum(W_unscaled*X_mu)\n",
    "print(\"Initial Model -> y = 3.5X + 0.0\")\n",
    "print(f\"Final Model -> y = {W_unscaled[0][0]:.3f}X + {b_unscaled[0]:.3f}\")"
   ]
  },
  {
   "cell_type": "markdown",
   "metadata": {},
   "source": [
    "### Pytorch"
   ]
  },
  {
   "cell_type": "code",
   "execution_count": null,
   "metadata": {},
   "outputs": [],
   "source": []
  }
 ],
 "metadata": {
  "kernelspec": {
   "display_name": "practice",
   "language": "python",
   "name": "python3"
  },
  "language_info": {
   "codemirror_mode": {
    "name": "ipython",
    "version": 3
   },
   "file_extension": ".py",
   "mimetype": "text/x-python",
   "name": "python",
   "nbconvert_exporter": "python",
   "pygments_lexer": "ipython3",
   "version": "3.9.13"
  },
  "orig_nbformat": 4,
  "vscode": {
   "interpreter": {
    "hash": "c06ae637b7da8eb950c0dd98a45979aa0f644ed5e4b97c8a5f19bad93d3c1c0d"
   }
  }
 },
 "nbformat": 4,
 "nbformat_minor": 2
}
