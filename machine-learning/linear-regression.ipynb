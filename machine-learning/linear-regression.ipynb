{
 "cells": [
  {
   "cell_type": "code",
   "execution_count": 1,
   "metadata": {},
   "outputs": [],
   "source": [
    "import numpy as np\n",
    "import pandas as pd\n",
    "import matplotlib.pyplot as plt\n",
    "\n",
    "SEED = 143\n",
    "NUM_SAMPLES = 50"
   ]
  },
  {
   "cell_type": "code",
   "execution_count": 2,
   "metadata": {},
   "outputs": [],
   "source": [
    "np.random.seed(SEED)"
   ]
  },
  {
   "cell_type": "code",
   "execution_count": 3,
   "metadata": {},
   "outputs": [],
   "source": [
    "def generate_synthetic_data(n_samples):\n",
    "    \"\"\"generate dummy data for linear regression\"\"\"\n",
    "    X = np.array(range(n_samples))\n",
    "    random_noise = np.random.uniform(-10, 20, size=n_samples)\n",
    "    y = 3.5*X + random_noise\n",
    "    return X, y"
   ]
  },
  {
   "cell_type": "code",
   "execution_count": 4,
   "metadata": {},
   "outputs": [
    {
     "name": "stdout",
     "output_type": "stream",
     "text": [
      "[[ 0.         12.13264885]\n",
      " [ 1.          3.69864222]\n",
      " [ 2.         11.04270303]\n",
      " [ 3.         13.21814047]\n",
      " [ 4.         21.04958841]]\n"
     ]
    }
   ],
   "source": [
    "X, y = generate_synthetic_data(NUM_SAMPLES)\n",
    "data = np.vstack([X, y]).T\n",
    "print(data[:5])"
   ]
  },
  {
   "cell_type": "code",
   "execution_count": 5,
   "metadata": {},
   "outputs": [
    {
     "name": "stdout",
     "output_type": "stream",
     "text": [
      "     X          y\n",
      "0  0.0  12.132649\n",
      "1  1.0   3.698642\n",
      "2  2.0  11.042703\n",
      "3  3.0  13.218140\n",
      "4  4.0  21.049588\n"
     ]
    }
   ],
   "source": [
    "df = pd.DataFrame(data, columns = [\"X\", \"y\"])\n",
    "print(df.head())\n",
    "X = df[[\"X\"]].values\n",
    "y = df[[\"y\"]].values"
   ]
  },
  {
   "cell_type": "code",
   "execution_count": 6,
   "metadata": {},
   "outputs": [
    {
     "data": {
      "text/plain": [
       "Text(0.5, 0, 'X')"
      ]
     },
     "execution_count": 6,
     "metadata": {},
     "output_type": "execute_result"
    },
    {
     "data": {
      "image/png": "[encoded data removed]",
      "text/plain": [
       "<Figure size 640x480 with 1 Axes>"
      ]
     },
     "metadata": {},
     "output_type": "display_data"
    }
   ],
   "source": [
    "plt.scatter(X, y)\n",
    "plt.title(\"Generated Synthetic Data\")\n",
    "plt.ylabel(\"y\")\n",
    "plt.xlabel(\"X\")"
   ]
  },
  {
   "cell_type": "code",
   "execution_count": 7,
   "metadata": {},
   "outputs": [],
   "source": [
    "TRAIN_SIZE = 0.7\n",
    "VAL_SIZE = 0.15\n",
    "TEST_SIZE = 0.15"
   ]
  },
  {
   "cell_type": "code",
   "execution_count": 8,
   "metadata": {},
   "outputs": [],
   "source": [
    "# Shuffle data\n",
    "indices = list(range(NUM_SAMPLES))\n",
    "np.random.shuffle(indices)\n",
    "X = X[indices]\n",
    "y = y[indices]\n"
   ]
  },
  {
   "cell_type": "code",
   "execution_count": 9,
   "metadata": {},
   "outputs": [],
   "source": [
    "train_start = 0\n",
    "train_end = int(0.7*NUM_SAMPLES)\n",
    "val_start = train_end\n",
    "val_end = int((TRAIN_SIZE+VAL_SIZE)*NUM_SAMPLES)\n",
    "test_start = val_end"
   ]
  },
  {
   "cell_type": "code",
   "execution_count": 10,
   "metadata": {},
   "outputs": [
    {
     "name": "stdout",
     "output_type": "stream",
     "text": [
      "X_train shape: (35, 1), y_train shape: (35, 1)\n",
      "X_val shape: (7, 1), y_val shape: (7, 1)\n",
      "X_test shape: (8, 1), y_test shape: (8, 1)\n"
     ]
    }
   ],
   "source": [
    "X_train = X[train_start:train_end]\n",
    "y_train = y[train_start:train_end]\n",
    "\n",
    "X_val = X[val_start:val_end]\n",
    "y_val = y[val_start:val_end]\n",
    "\n",
    "X_test = X[test_start:]\n",
    "y_test = y[test_start:]\n",
    "\n",
    "print(f\"X_train shape: {X_train.shape}, y_train shape: {y_train.shape}\")\n",
    "print(f\"X_val shape: {X_val.shape}, y_val shape: {y_val.shape}\")\n",
    "print(f\"X_test shape: {X_test.shape}, y_test shape: {y_test.shape}\")"
   ]
  },
  {
   "cell_type": "code",
   "execution_count": 11,
   "metadata": {},
   "outputs": [],
   "source": [
    "def standardize_data(data):\n",
    "    mu = np.mean(data)\n",
    "    sigma = np.std(data)\n",
    "    return (data - mu)/sigma"
   ]
  },
  {
   "cell_type": "code",
   "execution_count": 12,
   "metadata": {},
   "outputs": [],
   "source": [
    "X_mu = np.mean(X)\n",
    "X_std = np.std(X)\n",
    "\n",
    "y_mu = np.mean(y)\n",
    "y_std = np.std(y)"
   ]
  },
  {
   "cell_type": "code",
   "execution_count": 13,
   "metadata": {},
   "outputs": [],
   "source": [
    "X_train = standardize_data(X_train)\n",
    "y_train = standardize_data(y_train)\n",
    "\n",
    "X_val = standardize_data(X_val)\n",
    "y_val = standardize_data(y_val)\n",
    "\n",
    "X_test = standardize_data(X_test)\n",
    "y_test = standardize_data(y_test)"
   ]
  },
  {
   "cell_type": "code",
   "execution_count": 14,
   "metadata": {},
   "outputs": [
    {
     "name": "stdout",
     "output_type": "stream",
     "text": [
      "Mu X_train: 0.0, Sigma X_train: 1.0\n",
      "Mu y_train: -0.0, Sigma y_train: 1.0\n",
      "Mu X_val: -0.0, Sigma X_val: 1.0\n",
      "Mu y_val: -0.0, Sigma y_val: 1.0\n",
      "Mu X_test: 0.0, Sigma X_test: 1.0\n",
      "Mu y_test: 0.0, Sigma y_test: 1.0\n"
     ]
    }
   ],
   "source": [
    "print(f\"Mu X_train: {round(np.mean(X_train, axis=0)[0], 2)}, Sigma X_train: {round(np.std(X_train, axis=0)[0], 2)}\")\n",
    "print(f\"Mu y_train: {round(np.mean(y_train, axis=0)[0], 2)}, Sigma y_train: {round(np.std(y_train, axis=0)[0], 2)}\")\n",
    "\n",
    "print(f\"Mu X_val: {round(np.mean(X_val, axis=0)[0], 2)}, Sigma X_val: {round(np.std(X_val, axis=0)[0], 2)}\")\n",
    "print(f\"Mu y_val: {round(np.mean(y_val, axis=0)[0], 2)}, Sigma y_val: {round(np.std(y_val, axis=0)[0], 2)}\")\n",
    "\n",
    "print(f\"Mu X_test: {round(np.mean(X_test, axis=0)[0], 2)}, Sigma X_test: {round(np.std(X_test, axis=0)[0], 2)}\")\n",
    "print(f\"Mu y_test: {round(np.mean(y_test, axis=0)[0], 2)}, Sigma y_test: {round(np.std(y_test, axis=0)[0], 2)}\")"
   ]
  },
  {
   "cell_type": "code",
   "execution_count": 15,
   "metadata": {},
   "outputs": [],
   "source": [
    "INPUT_DIM = X_train.shape[1]\n",
    "OUTPUT_DIM = y_train.shape[1]"
   ]
  },
  {
   "cell_type": "code",
   "execution_count": 16,
   "metadata": {},
   "outputs": [
    {
     "name": "stdout",
     "output_type": "stream",
     "text": [
      "W: shape: (1, 1)\n",
      "b: shape: (1, 1)\n"
     ]
    }
   ],
   "source": [
    "W = 0.01*np.random.randn(INPUT_DIM, OUTPUT_DIM)\n",
    "b = np.zeros((1,1))\n",
    "print(f\"W: shape: {W.shape}\")\n",
    "print(f\"b: shape: {b.shape}\")"
   ]
  },
  {
   "cell_type": "code",
   "execution_count": 17,
   "metadata": {},
   "outputs": [
    {
     "name": "stdout",
     "output_type": "stream",
     "text": [
      "y_pred shape: (35, 1)\n"
     ]
    }
   ],
   "source": [
    "y_pred = np.dot(X_train, W) + b\n",
    "print(f\"y_pred shape: {y_pred.shape}\")"
   ]
  },
  {
   "cell_type": "code",
   "execution_count": 18,
   "metadata": {},
   "outputs": [
    {
     "name": "stdout",
     "output_type": "stream",
     "text": [
      "Training Loss: 1.02\n"
     ]
    }
   ],
   "source": [
    "# loss\n",
    "N = len(y_train)\n",
    "loss = (1/N)*np.sum((y_train - y_pred)**2)\n",
    "print(f\"Training Loss: {loss:.2f}\")"
   ]
  },
  {
   "cell_type": "code",
   "execution_count": 19,
   "metadata": {},
   "outputs": [],
   "source": [
    "dW = -(2/N)*np.sum((y_train - y_pred)*X_train)\n",
    "db = -(2/N)*np.sum((y_train - y_pred)*1)"
   ]
  },
  {
   "cell_type": "code",
   "execution_count": 20,
   "metadata": {},
   "outputs": [],
   "source": [
    "LEARNING_RATE = 1e-1"
   ]
  },
  {
   "cell_type": "code",
   "execution_count": 21,
   "metadata": {},
   "outputs": [],
   "source": [
    "W = W - LEARNING_RATE*dW\n",
    "b = b - LEARNING_RATE*db"
   ]
  },
  {
   "cell_type": "code",
   "execution_count": 22,
   "metadata": {},
   "outputs": [],
   "source": [
    "NUM_EPOCHS = 100"
   ]
  },
  {
   "cell_type": "code",
   "execution_count": 23,
   "metadata": {},
   "outputs": [
    {
     "name": "stdout",
     "output_type": "stream",
     "text": [
      "Epoch 0: Loss: 0.984\n",
      "Epoch 10: Loss: 0.040\n",
      "Epoch 20: Loss: 0.029\n",
      "Epoch 30: Loss: 0.029\n",
      "Epoch 40: Loss: 0.029\n",
      "Epoch 50: Loss: 0.029\n",
      "Epoch 60: Loss: 0.029\n",
      "Epoch 70: Loss: 0.029\n",
      "Epoch 80: Loss: 0.029\n",
      "Epoch 90: Loss: 0.029\n"
     ]
    }
   ],
   "source": [
    "W = 0.01* np.random.randn(INPUT_DIM, OUTPUT_DIM)\n",
    "b = np.zeros((1, ))\n",
    "\n",
    "for epoch_num in range(NUM_EPOCHS):\n",
    "    \n",
    "    y_pred = np.dot(X_train, W) + b\n",
    "\n",
    "    loss = (1/len(y_train))*np.sum((y_train - y_pred)**2)\n",
    "\n",
    "    if epoch_num%10 == 0:\n",
    "        print(f\"Epoch {epoch_num}: Loss: {loss:.3f}\")\n",
    "\n",
    "    dW = -(2/len(y_train))*np.sum((y_train - y_pred)*X_train)\n",
    "    db = -(2/len(y_train))*np.sum((y_train - y_pred)*1)\n",
    "\n",
    "    W -= LEARNING_RATE*dW\n",
    "    b -= LEARNING_RATE*db\n"
   ]
  },
  {
   "cell_type": "code",
   "execution_count": 24,
   "metadata": {},
   "outputs": [],
   "source": [
    "pred_train = W*X_train + b\n",
    "pred_val = W*X_val + b\n",
    "pred_test = W*X_test + b"
   ]
  },
  {
   "cell_type": "code",
   "execution_count": 25,
   "metadata": {},
   "outputs": [
    {
     "name": "stdout",
     "output_type": "stream",
     "text": [
      "Train MSE: 0.029, Val MSE: 0.023, Test MSE: 0.030\n"
     ]
    }
   ],
   "source": [
    "train_mse = np.mean((y_train - pred_train)**2)\n",
    "val_mse = np.mean((y_val - pred_val)**2)\n",
    "test_mse = np.mean((y_test - pred_test)**2)\n",
    "\n",
    "print(f\"Train MSE: {train_mse:.3f}, Val MSE: {val_mse:.3f}, Test MSE: {test_mse:.3f}\")"
   ]
  },
  {
   "cell_type": "code",
   "execution_count": 26,
   "metadata": {},
   "outputs": [
    {
     "data": {
      "image/png": "[encoded data removed]",
      "text/plain": [
       "<Figure size 900x300 with 3 Axes>"
      ]
     },
     "metadata": {},
     "output_type": "display_data"
    }
   ],
   "source": [
    "plt.figure(figsize=(9, 3))\n",
    "\n",
    "plt.subplot(1,3,1)\n",
    "plt.scatter(X_train, y_train, label=\"y_train\")\n",
    "plt.plot(pred_train, X_train, color=\"red\", linewidth=1, linestyle=\"-\", label=\"model\")\n",
    "plt.title(\"Train\")\n",
    "plt.legend()\n",
    "\n",
    "plt.subplot(1,3,3)\n",
    "plt.scatter(X_val, y_val, label=\"y_val\")\n",
    "plt.plot(pred_val, X_val, color=\"red\", linewidth=1, linestyle=\"-\", label=\"model\")\n",
    "plt.title(\"Val\")\n",
    "plt.legend()\n",
    "\n",
    "plt.subplot(1,3,2)\n",
    "plt.scatter(X_test, y_test, label=\"y_test\")\n",
    "plt.plot(pred_test, X_test, color=\"red\", linewidth=1, linestyle=\"-\", label=\"model\")\n",
    "plt.title(\"Test\")\n",
    "plt.legend()\n",
    "\n",
    "plt.show()"
   ]
  },
  {
   "cell_type": "code",
   "execution_count": 27,
   "metadata": {},
   "outputs": [
    {
     "name": "stdout",
     "output_type": "stream",
     "text": [
      "Initial Model -> y = 3.5X + 0.0\n",
      "Final Model -> y = 3.569X + 0.759\n"
     ]
    }
   ],
   "source": [
    "W_unscaled = W * (y_std/X_std)\n",
    "b_unscaled = b * y_std + y_mu - np.sum(W_unscaled*X_mu)\n",
    "print(\"Initial Model -> y = 3.5X + 0.0\")\n",
    "print(f\"Final Model -> y = {W_unscaled[0][0]:.3f}X + {b_unscaled[0]:.3f}\")"
   ]
  },
  {
   "cell_type": "markdown",
   "metadata": {},
   "source": [
    "### Pytorch"
   ]
  },
  {
   "cell_type": "code",
   "execution_count": 28,
   "metadata": {},
   "outputs": [],
   "source": [
    "import torch"
   ]
  },
  {
   "cell_type": "code",
   "execution_count": 29,
   "metadata": {},
   "outputs": [
    {
     "data": {
      "text/plain": [
       "<torch._C.Generator at 0x20a95653990>"
      ]
     },
     "execution_count": 29,
     "metadata": {},
     "output_type": "execute_result"
    }
   ],
   "source": [
    "torch.manual_seed(143)"
   ]
  },
  {
   "cell_type": "code",
   "execution_count": 30,
   "metadata": {},
   "outputs": [],
   "source": [
    "from sklearn.model_selection import train_test_split"
   ]
  },
  {
   "cell_type": "code",
   "execution_count": 31,
   "metadata": {},
   "outputs": [],
   "source": [
    "TRAIN_SIZE = 0.7\n",
    "VAL_SIZE = 0.15\n",
    "TEST_SIZE = 0.15"
   ]
  },
  {
   "cell_type": "code",
   "execution_count": 45,
   "metadata": {},
   "outputs": [],
   "source": [
    "X_train, X_, y_train, y_ = train_test_split(X, y, train_size=TRAIN_SIZE)\n",
    "X_val, X_test, y_val, y_test = train_test_split(X_, y_, train_size=0.5)"
   ]
  },
  {
   "cell_type": "code",
   "execution_count": 46,
   "metadata": {},
   "outputs": [
    {
     "name": "stdout",
     "output_type": "stream",
     "text": [
      "Train X shape: (35, 1), Train y shape: (35, 1)\n",
      "Val X shape: (7, 1), Val y shape: (7, 1)\n",
      "Test X shape: (8, 1), Test y shape: (8, 1)\n"
     ]
    }
   ],
   "source": [
    "print(f\"Train X shape: {X_train.shape}, Train y shape: {y_train.shape}\")\n",
    "print(f\"Val X shape: {X_val.shape}, Val y shape: {y_val.shape}\")\n",
    "print(f\"Test X shape: {X_test.shape}, Test y shape: {y_test.shape}\")"
   ]
  },
  {
   "cell_type": "code",
   "execution_count": 34,
   "metadata": {},
   "outputs": [],
   "source": [
    "from sklearn.preprocessing import StandardScaler"
   ]
  },
  {
   "cell_type": "code",
   "execution_count": 48,
   "metadata": {},
   "outputs": [],
   "source": [
    "X_scaler = StandardScaler().fit(X_train)\n",
    "y_scaler = StandardScaler().fit(y_train)"
   ]
  },
  {
   "cell_type": "code",
   "execution_count": 49,
   "metadata": {},
   "outputs": [],
   "source": [
    "X_train = X_scaler.transform(X_train)\n",
    "X_val = X_scaler.transform(X_val)\n",
    "X_test = X_scaler.transform(X_test)\n",
    "\n",
    "y_train = y_scaler.transform(y_train)\n",
    "y_val = y_scaler.transform(y_val)\n",
    "y_test = y_scaler.transform(y_test)"
   ]
  },
  {
   "cell_type": "code",
   "execution_count": 50,
   "metadata": {},
   "outputs": [
    {
     "name": "stdout",
     "output_type": "stream",
     "text": [
      "Test X Mu: 0.03, Test X std: 1.05\n",
      "Test  Mu: 0.01, Test y std: 1.07\n"
     ]
    }
   ],
   "source": [
    "print(f\"Test X Mu: {np.mean(X_test, axis=0)[0]:.2f}, Test X std: {np.std(X_test, axis=0)[0]:.2f}\")\n",
    "print(f\"Test  Mu: {np.mean(y_test, axis=0)[0]:.2f}, Test y std: {np.std(y_test, axis=0)[0]:.2f}\")"
   ]
  },
  {
   "cell_type": "code",
   "execution_count": 51,
   "metadata": {},
   "outputs": [],
   "source": [
    "from torch import nn"
   ]
  },
  {
   "cell_type": "code",
   "execution_count": 52,
   "metadata": {},
   "outputs": [
    {
     "name": "stdout",
     "output_type": "stream",
     "text": [
      "torch.Size([3, 1])\n",
      "[[-0.5737771]\n",
      " [ 1.3436034]\n",
      " [-1.5592476]]\n"
     ]
    }
   ],
   "source": [
    "N = 3\n",
    "x = torch.randn(N, INPUT_DIM)\n",
    "print (x.shape)\n",
    "print (x.numpy())"
   ]
  },
  {
   "cell_type": "code",
   "execution_count": 53,
   "metadata": {},
   "outputs": [
    {
     "name": "stdout",
     "output_type": "stream",
     "text": [
      "Linear(in_features=1, out_features=1, bias=True)\n",
      "weights (torch.Size([1, 1])): -0.50\n",
      "bias (torch.Size([1])): 0.96\n"
     ]
    }
   ],
   "source": [
    "m = nn.Linear(INPUT_DIM, OUTPUT_DIM)\n",
    "print (m)\n",
    "print (f\"weights ({m.weight.shape}): {m.weight[0][0]:.2f}\")\n",
    "print (f\"bias ({m.bias.shape}): {m.bias[0]:.2f}\")"
   ]
  },
  {
   "cell_type": "code",
   "execution_count": 54,
   "metadata": {},
   "outputs": [
    {
     "name": "stdout",
     "output_type": "stream",
     "text": [
      "torch.Size([3, 1])\n",
      "[[1.2507483 ]\n",
      " [0.28704643]\n",
      " [1.7460594 ]]\n"
     ]
    }
   ],
   "source": [
    "z = m(x) \n",
    "print (z.shape)\n",
    "print (z.detach().numpy())"
   ]
  },
  {
   "cell_type": "code",
   "execution_count": 57,
   "metadata": {},
   "outputs": [],
   "source": [
    "class LinearRegression(nn.Module):\n",
    "    def __init__(self, input_dim, output_dim):\n",
    "        super(LinearRegression, self).__init__()\n",
    "        self.fc1 = nn.Linear(input_dim, output_dim)\n",
    "        \n",
    "    def forward(self, x_in):\n",
    "        y_pred = self.fc1(x_in)\n",
    "        return y_pred"
   ]
  },
  {
   "cell_type": "code",
   "execution_count": 58,
   "metadata": {},
   "outputs": [
    {
     "name": "stdout",
     "output_type": "stream",
     "text": [
      "<bound method Module.named_parameters of LinearRegression(\n",
      "  (fc1): Linear(in_features=1, out_features=1, bias=True)\n",
      ")>\n"
     ]
    }
   ],
   "source": [
    "model = LinearRegression(input_dim=INPUT_DIM, output_dim=OUTPUT_DIM)\n",
    "print (model.named_parameters)"
   ]
  },
  {
   "cell_type": "code",
   "execution_count": 59,
   "metadata": {},
   "outputs": [
    {
     "name": "stdout",
     "output_type": "stream",
     "text": [
      "Loss:  0.75\n"
     ]
    }
   ],
   "source": [
    "loss_fn = nn.MSELoss()\n",
    "y_pred = torch.Tensor([0., 0., 1., 1.])\n",
    "y_true =  torch.Tensor([1., 1., 1., 0.])\n",
    "loss = loss_fn(y_pred, y_true)\n",
    "print(\"Loss: \", loss.numpy())"
   ]
  },
  {
   "cell_type": "code",
   "execution_count": 60,
   "metadata": {},
   "outputs": [],
   "source": [
    "from torch.optim import Adam"
   ]
  },
  {
   "cell_type": "code",
   "execution_count": 61,
   "metadata": {},
   "outputs": [],
   "source": [
    "optimizer = Adam(model.parameters(), lr=LEARNING_RATE) "
   ]
  },
  {
   "cell_type": "code",
   "execution_count": 62,
   "metadata": {},
   "outputs": [],
   "source": [
    "X_train = torch.Tensor(X_train)\n",
    "y_train = torch.Tensor(y_train)\n",
    "X_val = torch.Tensor(X_val)\n",
    "y_val = torch.Tensor(y_val)\n",
    "X_test = torch.Tensor(X_test)\n",
    "y_test = torch.Tensor(y_test)"
   ]
  },
  {
   "cell_type": "code",
   "execution_count": 65,
   "metadata": {},
   "outputs": [
    {
     "name": "stdout",
     "output_type": "stream",
     "text": [
      "Epoch: 0 | Loss: 0.03\n",
      "Epoch: 10 | Loss: 0.03\n",
      "Epoch: 20 | Loss: 0.03\n",
      "Epoch: 30 | Loss: 0.03\n",
      "Epoch: 40 | Loss: 0.03\n",
      "Epoch: 50 | Loss: 0.03\n",
      "Epoch: 60 | Loss: 0.03\n",
      "Epoch: 70 | Loss: 0.03\n",
      "Epoch: 80 | Loss: 0.03\n",
      "Epoch: 90 | Loss: 0.03\n"
     ]
    }
   ],
   "source": [
    "for epoch_num in range(NUM_EPOCHS):\n",
    "    y_pred = model(X_train)\n",
    "    loss = loss_fn(y_pred, y_train)\n",
    "    optimizer.zero_grad()\n",
    "    loss.backward()\n",
    "    optimizer.step()\n",
    "\n",
    "    if epoch_num%10==0:\n",
    "        print(f\"Epoch: {epoch_num} | Loss: {loss:.2f}\")"
   ]
  },
  {
   "cell_type": "code",
   "execution_count": 66,
   "metadata": {},
   "outputs": [],
   "source": [
    "pred_train = model(X_train)\n",
    "pred_test = model(X_test)"
   ]
  },
  {
   "cell_type": "code",
   "execution_count": 67,
   "metadata": {},
   "outputs": [
    {
     "name": "stdout",
     "output_type": "stream",
     "text": [
      "train_error: 0.03\n",
      "test_error: 0.02\n"
     ]
    }
   ],
   "source": [
    "train_error = loss_fn(pred_train, y_train)\n",
    "test_error = loss_fn(pred_test, y_test)\n",
    "print(f\"train_error: {train_error:.2f}\")\n",
    "print(f\"test_error: {test_error:.2f}\")"
   ]
  },
  {
   "cell_type": "code",
   "execution_count": 68,
   "metadata": {},
   "outputs": [
    {
     "data": {
      "image/png": "[encoded data removed]",
      "text/plain": [
       "<Figure size 900x300 with 2 Axes>"
      ]
     },
     "metadata": {},
     "output_type": "display_data"
    }
   ],
   "source": [
    "plt.figure(figsize=(9,3))\n",
    "\n",
    "plt.subplot(1, 2, 1)\n",
    "\n",
    "plt.scatter(X_train, y_train, label=\"y_train\")\n",
    "plt.plot(X_train, pred_train.detach().numpy(), color=\"red\", linewidth=1, linestyle=\"-\", label=\"model\")\n",
    "plt.legend(loc=\"lower right\")\n",
    "plt.title(\"Train\")\n",
    "\n",
    "plt.subplot(1, 2, 2)\n",
    "\n",
    "plt.scatter(X_test, y_test, label='y_test')\n",
    "plt.plot(X_test, pred_test.detach().numpy(), color=\"red\", linewidth=1, linestyle=\"-\", label=\"model\")\n",
    "plt.legend(loc=\"lower right\")\n",
    "plt.title(\"Test\")\n",
    "\n",
    "plt.show()"
   ]
  },
  {
   "cell_type": "code",
   "execution_count": 70,
   "metadata": {},
   "outputs": [],
   "source": [
    "sample_indices = [10, 15, 25]\n",
    "X_infer = np.array(sample_indices, dtype=np.float32)\n",
    "X_infer = torch.Tensor(X_scaler.transform(X_infer.reshape(-1, 1)))"
   ]
  },
  {
   "cell_type": "code",
   "execution_count": 72,
   "metadata": {},
   "outputs": [
    {
     "name": "stdout",
     "output_type": "stream",
     "text": [
      "[actual] y = 3.5X + noise\n",
      "[model] y_hat = 3.6X + 0.0\n"
     ]
    }
   ],
   "source": [
    "W = model.fc1.weight.data.numpy()[0][0]\n",
    "b = model.fc1.bias.data.numpy()[0]\n",
    "W_unscaled = W * (y_scaler.scale_/X_scaler.scale_)\n",
    "b_unscaled = b * y_scaler.scale_ + y_scaler.mean_ - np.sum(W_unscaled*X_scaler.mean_)\n",
    "print (\"[actual] y = 3.5X + noise\")\n",
    "print (f\"[model] y_hat = {W_unscaled[0]:.1f}X + {b_unscaled[0]:.1f}\") "
   ]
  },
  {
   "cell_type": "code",
   "execution_count": 73,
   "metadata": {},
   "outputs": [],
   "source": [
    "L2_LAMBDA = 1e-2"
   ]
  },
  {
   "cell_type": "code",
   "execution_count": 74,
   "metadata": {},
   "outputs": [],
   "source": [
    "model = LinearRegression(input_dim=INPUT_DIM, output_dim=OUTPUT_DIM)"
   ]
  },
  {
   "cell_type": "code",
   "execution_count": 75,
   "metadata": {},
   "outputs": [],
   "source": [
    "optimizer = Adam(model.parameters(), lr=LEARNING_RATE, weight_decay=L2_LAMBDA) "
   ]
  },
  {
   "cell_type": "code",
   "execution_count": 76,
   "metadata": {},
   "outputs": [
    {
     "name": "stdout",
     "output_type": "stream",
     "text": [
      "Epoch: 0 | loss: 0.21\n",
      "Epoch: 20 | loss: 0.03\n",
      "Epoch: 40 | loss: 0.03\n",
      "Epoch: 60 | loss: 0.03\n",
      "Epoch: 80 | loss: 0.03\n"
     ]
    }
   ],
   "source": [
    "for epoch in range(NUM_EPOCHS):\n",
    "    y_pred = model(X_train)\n",
    "    loss = loss_fn(y_pred, y_train)\n",
    "    optimizer.zero_grad()\n",
    "    loss.backward()\n",
    "    optimizer.step()\n",
    "    if epoch%20==0: \n",
    "        print (f\"Epoch: {epoch} | loss: {loss:.2f}\")"
   ]
  },
  {
   "cell_type": "code",
   "execution_count": 77,
   "metadata": {},
   "outputs": [],
   "source": [
    "pred_train = model(X_train)\n",
    "pred_test = model(X_test)"
   ]
  },
  {
   "cell_type": "code",
   "execution_count": 78,
   "metadata": {},
   "outputs": [
    {
     "name": "stdout",
     "output_type": "stream",
     "text": [
      "train_error: 0.03\n",
      "test_error: 0.02\n"
     ]
    }
   ],
   "source": [
    "train_error = loss_fn(pred_train, y_train)\n",
    "test_error = loss_fn(pred_test, y_test)\n",
    "print(f\"train_error: {train_error:.2f}\")\n",
    "print(f\"test_error: {test_error:.2f}\")"
   ]
  }
 ],
 "metadata": {
  "kernelspec": {
   "display_name": "practice",
   "language": "python",
   "name": "python3"
  },
  "language_info": {
   "codemirror_mode": {
    "name": "ipython",
    "version": 3
   },
   "file_extension": ".py",
   "mimetype": "text/x-python",
   "name": "python",
   "nbconvert_exporter": "python",
   "pygments_lexer": "ipython3",
   "version": "3.9.13"
  },
  "orig_nbformat": 4,
  "vscode": {
   "interpreter": {
    "hash": "c06ae637b7da8eb950c0dd98a45979aa0f644ed5e4b97c8a5f19bad93d3c1c0d"
   }
  }
 },
 "nbformat": 4,
 "nbformat_minor": 2
}
