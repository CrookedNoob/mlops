{
 "cells": [
  {
   "cell_type": "code",
   "execution_count": 1,
   "metadata": {},
   "outputs": [
    {
     "name": "stdout",
     "output_type": "stream",
     "text": [
      "5\n",
      "<class 'int'>\n"
     ]
    }
   ],
   "source": [
    "x = 5\n",
    "print(x)\n",
    "print(type(x))"
   ]
  },
  {
   "cell_type": "code",
   "execution_count": 2,
   "metadata": {},
   "outputs": [
    {
     "name": "stdout",
     "output_type": "stream",
     "text": [
      "hello python\n",
      "<class 'str'>\n"
     ]
    }
   ],
   "source": [
    "x = \"hello python\"\n",
    "print(x)\n",
    "print(type(x))"
   ]
  },
  {
   "cell_type": "code",
   "execution_count": 3,
   "metadata": {},
   "outputs": [
    {
     "name": "stdout",
     "output_type": "stream",
     "text": [
      "hello python <class 'str'>\n"
     ]
    }
   ],
   "source": [
    "print(x, type(x))"
   ]
  },
  {
   "cell_type": "code",
   "execution_count": 4,
   "metadata": {},
   "outputs": [
    {
     "name": "stdout",
     "output_type": "stream",
     "text": [
      "2.09 <class 'float'>\n"
     ]
    }
   ],
   "source": [
    "x = 2.09\n",
    "print(x, type(x))"
   ]
  },
  {
   "cell_type": "code",
   "execution_count": 5,
   "metadata": {},
   "outputs": [
    {
     "name": "stdout",
     "output_type": "stream",
     "text": [
      "25\n"
     ]
    }
   ],
   "source": [
    "a = 22\n",
    "b = 3\n",
    "print(a + b)"
   ]
  },
  {
   "cell_type": "code",
   "execution_count": 6,
   "metadata": {},
   "outputs": [
    {
     "name": "stdout",
     "output_type": "stream",
     "text": [
      "aforapple\n"
     ]
    }
   ],
   "source": [
    "a = \"a\"\n",
    "b = \"for\"\n",
    "c = \"apple\"\n",
    "\n",
    "print(a + b + c)"
   ]
  },
  {
   "cell_type": "code",
   "execution_count": 7,
   "metadata": {},
   "outputs": [
    {
     "name": "stdout",
     "output_type": "stream",
     "text": [
      "['32', 'vamos', 22, 29.19] <class 'list'>\n",
      "4\n"
     ]
    }
   ],
   "source": [
    "# List\n",
    "x = [\"32\", \"vamos\", 22, 29.19]\n",
    "print(x, type(x))\n",
    "print(len(x))"
   ]
  },
  {
   "cell_type": "code",
   "execution_count": 8,
   "metadata": {},
   "outputs": [],
   "source": [
    "x.append(21)"
   ]
  },
  {
   "cell_type": "code",
   "execution_count": 9,
   "metadata": {},
   "outputs": [
    {
     "name": "stdout",
     "output_type": "stream",
     "text": [
      "['32', 'vamos', 22, 29.19, 21, 23, 'TLOU']\n"
     ]
    }
   ],
   "source": [
    "y = [23, \"TLOU\"]\n",
    "x.extend(y)\n",
    "print(x)"
   ]
  },
  {
   "cell_type": "code",
   "execution_count": 10,
   "metadata": {},
   "outputs": [
    {
     "name": "stdout",
     "output_type": "stream",
     "text": [
      "['32', 'vamos', 22, 29.19, '99', 23, 'TLOU']\n",
      "['32', 'vamos', 22, 29.19, '99', 23, 'TLOU', 'hello', 'python', 'mlops', 'beginner', 7]\n"
     ]
    }
   ],
   "source": [
    "x[4] = \"99\"\n",
    "print(x)\n",
    "z = [\"hello\", \"python\", \"mlops\", \"beginner\", 7]\n",
    "print(x+z)"
   ]
  },
  {
   "cell_type": "code",
   "execution_count": 11,
   "metadata": {},
   "outputs": [
    {
     "name": "stdout",
     "output_type": "stream",
     "text": [
      "(3.0, 'hello') <class 'tuple'>\n"
     ]
    }
   ],
   "source": [
    "# Tuples\n",
    "x = (3.0, \"hello\")\n",
    "print(x, type(x))"
   ]
  },
  {
   "cell_type": "code",
   "execution_count": 12,
   "metadata": {},
   "outputs": [
    {
     "name": "stdout",
     "output_type": "stream",
     "text": [
      "(3.0, 'hello', 51, 'messi', 'ronaldo')\n"
     ]
    }
   ],
   "source": [
    "x = x + (51, \"messi\", \"ronaldo\")\n",
    "print(x)"
   ]
  },
  {
   "cell_type": "code",
   "execution_count": 13,
   "metadata": {},
   "outputs": [
    {
     "ename": "TypeError",
     "evalue": "'tuple' object does not support item assignment",
     "output_type": "error",
     "traceback": [
      "\u001b[1;31m---------------------------------------------------------------------------\u001b[0m",
      "\u001b[1;31mTypeError\u001b[0m                                 Traceback (most recent call last)",
      "Cell \u001b[1;32mIn [13], line 1\u001b[0m\n\u001b[1;32m----> 1\u001b[0m x[\u001b[39m4\u001b[39;49m] \u001b[39m=\u001b[39m \u001b[39m\"\u001b[39m\u001b[39mneyman\u001b[39m\u001b[39m\"\u001b[39m\n",
      "\u001b[1;31mTypeError\u001b[0m: 'tuple' object does not support item assignment"
     ]
    }
   ],
   "source": [
    "x[4] = \"neyman\""
   ]
  },
  {
   "cell_type": "code",
   "execution_count": null,
   "metadata": {},
   "outputs": [
    {
     "name": "stdout",
     "output_type": "stream",
     "text": [
      "{'j', 'b', 'f', 'r', 't', 'o', 'h', 'E', 'l', 'n', 'i', ' ', 'u', 'c', 'a', 'e', 'm', 's'}\n",
      "{'of', 'the', 'father', 'all', 'subjects', 'is', 'Economics'}\n"
     ]
    }
   ],
   "source": [
    "# Set\n",
    "text = \"Economics is the father of all subjects\"\n",
    "print(set(text))\n",
    "print(set(text.split(\" \")))"
   ]
  },
  {
   "cell_type": "code",
   "execution_count": null,
   "metadata": {},
   "outputs": [
    {
     "name": "stdout",
     "output_type": "stream",
     "text": [
      "x[0]: hello\n",
      "x[1]: python\n",
      "x[3]: 7\n",
      "x[-2]: 2.3\n"
     ]
    }
   ],
   "source": [
    "# Indexing\n",
    "x = [\"hello\", \"python\", \"mlops\", 2.3, 7]\n",
    "print(f\"x[0]: {x[0]}\")\n",
    "print(f\"x[1]: {x[1]}\")\n",
    "print(f\"x[4]: {x[4]}\")\n",
    "print(f\"x[-2]: {x[-2]}\")"
   ]
  },
  {
   "cell_type": "code",
   "execution_count": null,
   "metadata": {},
   "outputs": [
    {
     "name": "stdout",
     "output_type": "stream",
     "text": [
      "x[:]: ['hello', 'python', 'mlops', 2.3, 7]\n",
      "x[1:]: ['python', 'mlops', 2.3, 7]\n",
      "x[2:4]: ['mlops', 2.3]\n",
      "x[-2:]: [2.3, 7]\n",
      "x[::-2]: [7, 'mlops', 'hello']\n"
     ]
    }
   ],
   "source": [
    "# Slicing\n",
    "x = [\"hello\", \"python\", \"mlops\", 2.3, 7]\n",
    "print(f\"x[:]: {x[:]}\")\n",
    "print(f\"x[1:]: {x[1:]}\")\n",
    "print(f\"x[2:4]: {x[2:4]}\")\n",
    "print(f\"x[-2:]: {x[-2:]}\")\n",
    "print(f\"x[::-2]: {x[::-2]}\")"
   ]
  },
  {
   "cell_type": "code",
   "execution_count": null,
   "metadata": {},
   "outputs": [
    {
     "name": "stdout",
     "output_type": "stream",
     "text": [
      "{'name': 'Batman', 'comics': 'DC'}\n",
      "Batman\n",
      "DC\n"
     ]
    }
   ],
   "source": [
    "# Dictionaries\n",
    "\n",
    "character = {\"name\": \"Batman\", \"comics\": \"DC\"}\n",
    "print(character)\n",
    "\n",
    "print(character[\"name\"])\n",
    "print(character[\"comics\"])"
   ]
  },
  {
   "cell_type": "code",
   "execution_count": null,
   "metadata": {},
   "outputs": [
    {
     "name": "stdout",
     "output_type": "stream",
     "text": [
      "{'name': 'Batman', 'comics': 'DC', 'dress_color': 'black'}\n"
     ]
    }
   ],
   "source": [
    "character[\"dress_color\"] = \"black\"\n",
    "\n",
    "print(character)"
   ]
  },
  {
   "cell_type": "code",
   "execution_count": null,
   "metadata": {},
   "outputs": [
    {
     "data": {
      "text/plain": [
       "3"
      ]
     },
     "execution_count": 8,
     "metadata": {},
     "output_type": "execute_result"
    }
   ],
   "source": [
    "len(character)"
   ]
  },
  {
   "cell_type": "code",
   "execution_count": null,
   "metadata": {},
   "outputs": [
    {
     "name": "stdout",
     "output_type": "stream",
     "text": [
      "{'a': 7, 'b': 3, 'c': 9}\n"
     ]
    }
   ],
   "source": [
    "from collections import OrderedDict\n",
    "\n",
    "d = {}\n",
    "d[\"a\"] = 7\n",
    "d[\"b\"] = 3\n",
    "d[\"c\"] = 9\n",
    "\n",
    "print(d)"
   ]
  },
  {
   "cell_type": "code",
   "execution_count": null,
   "metadata": {},
   "outputs": [
    {
     "name": "stdout",
     "output_type": "stream",
     "text": [
      "dict_items([('a', 7), ('b', 3), ('c', 9)])\n"
     ]
    }
   ],
   "source": [
    "print(d.items())"
   ]
  },
  {
   "cell_type": "code",
   "execution_count": null,
   "metadata": {},
   "outputs": [
    {
     "name": "stdout",
     "output_type": "stream",
     "text": [
      "OrderedDict([('a', 7), ('b', 3), ('c', 9)])\n"
     ]
    }
   ],
   "source": [
    "print(OrderedDict(sorted(d.items())))"
   ]
  },
  {
   "cell_type": "code",
   "execution_count": null,
   "metadata": {},
   "outputs": [
    {
     "data": {
      "text/plain": [
       "OrderedDict([('b', 3), ('a', 7), ('c', 9)])"
      ]
     },
     "execution_count": 21,
     "metadata": {},
     "output_type": "execute_result"
    }
   ],
   "source": [
    "OrderedDict(sorted(d.items(), key=lambda x: x[1]))"
   ]
  },
  {
   "cell_type": "code",
   "execution_count": null,
   "metadata": {},
   "outputs": [
    {
     "name": "stdout",
     "output_type": "stream",
     "text": [
      "high\n"
     ]
    }
   ],
   "source": [
    "# IF else\n",
    "x = 22\n",
    "if x < 20:\n",
    "    print(\"low\")\n",
    "else:\n",
    "    print(\"high\")"
   ]
  },
  {
   "cell_type": "code",
   "execution_count": null,
   "metadata": {},
   "outputs": [
    {
     "name": "stdout",
     "output_type": "stream",
     "text": [
      "TRUE\n"
     ]
    }
   ],
   "source": [
    "x = True\n",
    "if x:\n",
    "    print(\"TRUE\")"
   ]
  },
  {
   "cell_type": "code",
   "execution_count": null,
   "metadata": {},
   "outputs": [],
   "source": [
    "x = False\n",
    "if x:\n",
    "    print(\"TRUE\")"
   ]
  },
  {
   "cell_type": "code",
   "execution_count": null,
   "metadata": {},
   "outputs": [
    {
     "name": "stdout",
     "output_type": "stream",
     "text": [
      "Item 1: fries\n",
      "Item 2: burger\n",
      "Item 3: pizza\n",
      "Item 4: taco\n"
     ]
    }
   ],
   "source": [
    "# For loop\n",
    "\n",
    "foods = [\"fries\", \"burger\", \"pizza\", \"taco\"]\n",
    "\n",
    "for i, food in enumerate(foods):\n",
    "    print(f\"Item {i+1}: {food}\")"
   ]
  },
  {
   "cell_type": "code",
   "execution_count": null,
   "metadata": {},
   "outputs": [
    {
     "name": "stdout",
     "output_type": "stream",
     "text": [
      "Item 1: fries\n",
      "Item 2: burger\n"
     ]
    }
   ],
   "source": [
    "foods = [\"fries\", \"burger\", \"pizza\", \"taco\"]\n",
    "\n",
    "for i, food in enumerate(foods):\n",
    "    if food == \"pizza\":\n",
    "        break\n",
    "    print(f\"Item {i+1}: {food}\")"
   ]
  },
  {
   "cell_type": "code",
   "execution_count": null,
   "metadata": {},
   "outputs": [
    {
     "name": "stdout",
     "output_type": "stream",
     "text": [
      "Item 1: fries\n",
      "Item 2: burger\n",
      "Item 4: taco\n"
     ]
    }
   ],
   "source": [
    "foods = [\"fries\", \"burger\", \"pizza\", \"taco\"]\n",
    "\n",
    "for i, food in enumerate(foods):\n",
    "    if food == \"pizza\":\n",
    "        continue\n",
    "    print(f\"Item {i+1}: {food}\")"
   ]
  },
  {
   "cell_type": "code",
   "execution_count": null,
   "metadata": {},
   "outputs": [
    {
     "name": "stdout",
     "output_type": "stream",
     "text": [
      "loop: 1\n",
      "loop: 2\n",
      "loop: 3\n",
      "loop: 4\n",
      "loop: 5\n",
      "loop: 6\n",
      "loop: 7\n",
      "loop: 8\n",
      "loop: 9\n",
      "loop: 10\n",
      "loop: 11\n",
      "loop: 12\n",
      "loop: 13\n"
     ]
    }
   ],
   "source": [
    "# while loop\n",
    "x = 4\n",
    "while(x <= 16):\n",
    "    print(f\"loop: {x-3}\")\n",
    "    x += 1\n"
   ]
  },
  {
   "cell_type": "code",
   "execution_count": null,
   "metadata": {},
   "outputs": [
    {
     "name": "stdout",
     "output_type": "stream",
     "text": [
      "[3, 4, 5]\n",
      "[3, 4, 5]\n"
     ]
    }
   ],
   "source": [
    "# List Comprehension\n",
    "\n",
    "x = [12, 3, 1, 2, 4, 5, 29]\n",
    "y = []\n",
    "\n",
    "for item in x:\n",
    "    if (item >=3) & (item <= 10):\n",
    "        y.append(item)\n",
    "\n",
    "print(y)\n",
    "\n",
    "print([item for item in x if (item>=3) & (item<=10)])"
   ]
  },
  {
   "cell_type": "code",
   "execution_count": null,
   "metadata": {},
   "outputs": [
    {
     "name": "stdout",
     "output_type": "stream",
     "text": [
      "['Am', 'bE']\n"
     ]
    },
    {
     "data": {
      "text/plain": [
       "['Am', 'bE']"
      ]
     },
     "execution_count": 14,
     "metadata": {},
     "output_type": "execute_result"
    }
   ],
   "source": [
    "words = [[\"Am\", \"ate\", \"ATOM\", \"apple\"], [\"bE\", \"boy\", \"ball\", \"bloom\"]]\n",
    "small_words = []\n",
    "for word in words:\n",
    "    for letters in word:\n",
    "        if len(letters) < 3:\n",
    "            small_words.append(letters)\n",
    "\n",
    "print(small_words)\n",
    "\n",
    "[word for word_lst in words for word in word_lst if len(word) < 3]"
   ]
  },
  {
   "cell_type": "code",
   "execution_count": null,
   "metadata": {},
   "outputs": [
    {
     "name": "stdout",
     "output_type": "stream",
     "text": [
      "6\n"
     ]
    }
   ],
   "source": [
    "# Functions\n",
    "def add_two_nums_and_three(num1:int, num2:int):\n",
    "    val = num1 + num2 + 3\n",
    "    return val\n",
    "\n",
    "print(add_two_nums_and_three(1,2))"
   ]
  },
  {
   "cell_type": "code",
   "execution_count": null,
   "metadata": {},
   "outputs": [
    {
     "name": "stdout",
     "output_type": "stream",
     "text": [
      "x: 2, y: 22\n"
     ]
    }
   ],
   "source": [
    "def fun_foo(*args, **kwargs):\n",
    "    x = args[0]\n",
    "    y = kwargs.get(\"y\")\n",
    "    print(f\"x: {x}, y: {y}\")\n",
    "\n",
    "fun_foo(2, y=22)"
   ]
  },
  {
   "cell_type": "code",
   "execution_count": null,
   "metadata": {},
   "outputs": [
    {
     "name": "stdout",
     "output_type": "stream",
     "text": [
      "labba dog\n",
      "<__main__.Pet object at 0x0000027E906E4B80>\n"
     ]
    }
   ],
   "source": [
    "# Class\n",
    "\n",
    "class Pet(object):\n",
    "    \"\"\"class object for pet\"\"\"\n",
    "\n",
    "    def __init__(self, species, name):\n",
    "        \"\"\"initialize a pet\"\"\"\n",
    "        self.species = species\n",
    "        self.name = name\n",
    "\n",
    "\n",
    "my_doggo = Pet(species=\"dog\", name=\"labba\")\n",
    "print(my_doggo.name, my_doggo.species)\n",
    "print(my_doggo)\n"
   ]
  },
  {
   "cell_type": "code",
   "execution_count": null,
   "metadata": {},
   "outputs": [
    {
     "name": "stdout",
     "output_type": "stream",
     "text": [
      "labba is the name of my dog.\n"
     ]
    }
   ],
   "source": [
    "# Class\n",
    "\n",
    "class Pet(object):\n",
    "    \"\"\"class object for pet\"\"\"\n",
    "\n",
    "    def __init__(self, species, name):\n",
    "        \"\"\"initialize a pet\"\"\"\n",
    "        self.species = species\n",
    "        self.name = name\n",
    "\n",
    "    def __str__(self):\n",
    "        \"\"\"Output when printing an instance of pet\"\"\"\n",
    "        return f\"{self.name} is the name of my {self.species}.\"\n",
    "\n",
    "\n",
    "my_doggo = Pet(species=\"dog\", name=\"labba\")\n",
    "print(my_doggo)\n"
   ]
  },
  {
   "cell_type": "code",
   "execution_count": 15,
   "metadata": {},
   "outputs": [
    {
     "name": "stdout",
     "output_type": "stream",
     "text": [
      "labba is the name of my dog.\n",
      "jabba is the name of my dog.\n"
     ]
    }
   ],
   "source": [
    "# Class\n",
    "\n",
    "class Pet(object):\n",
    "    \"\"\"class object for pet\"\"\"\n",
    "\n",
    "    def __init__(self, species, name):\n",
    "        \"\"\"initialize a pet\"\"\"\n",
    "        self.species = species\n",
    "        self.name = name\n",
    "\n",
    "    def __str__(self):\n",
    "        \"\"\"Output when printing an instance of pet\"\"\"\n",
    "        return f\"{self.name} is the name of my {self.species}.\"\n",
    "\n",
    "    def change_name(self, new_name):\n",
    "        \"\"\"change the name of pet\"\"\"\n",
    "        self.name = new_name\n",
    "\n",
    "\n",
    "my_doggo = Pet(species=\"dog\", name=\"labba\")\n",
    "print(my_doggo)\n",
    "\n",
    "my_doggo.change_name(\"jabba\")\n",
    "print(my_doggo)\n"
   ]
  },
  {
   "cell_type": "code",
   "execution_count": null,
   "metadata": {},
   "outputs": [
    {
     "name": "stdout",
     "output_type": "stream",
     "text": [
      "labba is the name of my dog.\n"
     ]
    }
   ],
   "source": [
    "# Inheritance\n",
    "\n",
    "class Dog(Pet):\n",
    "    \"\"\"dog class inherited from pet\"\"\"\n",
    "    def __init__(self, name, breed):\n",
    "        super().__init__(species=\"dog\", name=name)\n",
    "        self.breed = breed\n",
    "\n",
    "        def __str__(self):\n",
    "            return f\"A {self.breed} named {self.name}\"\n",
    "\n",
    "labba = Dog( breed=\"labrador\", name=\"labba\")\n",
    "print(labba)"
   ]
  },
  {
   "cell_type": "code",
   "execution_count": 17,
   "metadata": {},
   "outputs": [
    {
     "name": "stdout",
     "output_type": "stream",
     "text": [
      "lab named labba\n"
     ]
    }
   ],
   "source": [
    "class Dog(Pet):\n",
    "    def __init__(self, name, breed):\n",
    "        super().__init__(species=\"dog\", name=name)\n",
    "        self.breed = breed\n",
    "\n",
    "    def __str__(self):\n",
    "        return f\"{self.breed} named {self.name}\"\n",
    "\n",
    "    @classmethod\n",
    "    def from_dict(cls, d):\n",
    "        return cls(name = dog[\"name\"], breed=dog[\"breed\"])\n",
    "\n",
    "    @staticmethod\n",
    "    def is_cute(breed):\n",
    "        return True\n",
    "\n",
    "dog = {\"name\":\"labba\", \"breed\":\"lab\"}\n",
    "jabba = Dog.from_dict(d=dog)\n",
    "print(jabba)\n"
   ]
  },
  {
   "cell_type": "code",
   "execution_count": 19,
   "metadata": {},
   "outputs": [
    {
     "data": {
      "text/plain": [
       "True"
      ]
     },
     "execution_count": 19,
     "metadata": {},
     "output_type": "execute_result"
    }
   ],
   "source": [
    "Dog.is_cute(breed=\"lab\")"
   ]
  },
  {
   "cell_type": "code",
   "execution_count": 27,
   "metadata": {},
   "outputs": [
    {
     "data": {
      "text/plain": [
       "4"
      ]
     },
     "execution_count": 27,
     "metadata": {},
     "output_type": "execute_result"
    }
   ],
   "source": [
    "# decorators\n",
    "\n",
    "def add(f):\n",
    "    def wrapper(*args, **kwargs):\n",
    "        x = kwargs.pop(\"x\")\n",
    "        x += 1\n",
    "        x = f(*args, **kwargs, x=x)\n",
    "        x += 1\n",
    "        return x\n",
    "    return wrapper\n",
    "\n",
    "@add\n",
    "def ops(x):\n",
    "    x += 1\n",
    "    return x\n",
    "\n",
    "\n",
    "ops(x=1)"
   ]
  },
  {
   "cell_type": "code",
   "execution_count": 30,
   "metadata": {},
   "outputs": [
    {
     "data": {
      "text/plain": [
       "'wrapper'"
      ]
     },
     "execution_count": 30,
     "metadata": {},
     "output_type": "execute_result"
    }
   ],
   "source": [
    "ops.__name__"
   ]
  },
  {
   "cell_type": "code",
   "execution_count": 32,
   "metadata": {},
   "outputs": [
    {
     "data": {
      "text/plain": [
       "('ops', None)"
      ]
     },
     "execution_count": 32,
     "metadata": {},
     "output_type": "execute_result"
    }
   ],
   "source": [
    "from functools import wraps\n",
    "\n",
    "def add(f):\n",
    "    @wraps(f)\n",
    "    def wrap(*args, **kwargs):\n",
    "        \"\"\"add\"\"\"\n",
    "        x = kwargs.pop(\"x\")\n",
    "        x += 1\n",
    "        x = f(*args, **kwargs, x=x)\n",
    "        x += 1\n",
    "        return x\n",
    "    return wrap\n",
    "\n",
    "@add\n",
    "def ops(x):\n",
    "    x += 1\n",
    "    return x\n",
    "\n",
    "ops.__name__, ops.__doc__\n",
    "\n"
   ]
  },
  {
   "cell_type": "code",
   "execution_count": 35,
   "metadata": {},
   "outputs": [
    {
     "data": {
      "text/plain": [
       "4"
      ]
     },
     "execution_count": 35,
     "metadata": {},
     "output_type": "execute_result"
    }
   ],
   "source": [
    "# callbacks\n",
    "\n",
    "class x_tracker(object):\n",
    "    def __init__(self, x):\n",
    "        self.history = [x]\n",
    "    def at_start(self, x):\n",
    "        self.history.append(x)\n",
    "    def at_end(self, x):\n",
    "        self.history.append(x)\n",
    "\n",
    "@add\n",
    "def operations(x, callbacks=[]):\n",
    "    \"\"\"Basic operations.\"\"\"\n",
    "    for callback in callbacks:\n",
    "        callback.at_start(x)\n",
    "    x += 1\n",
    "    for callback in callbacks:\n",
    "        callback.at_end(x)\n",
    "    return x\n",
    "\n",
    "x = 1\n",
    "tracker = x_tracker(x=x)\n",
    "operations(x=x, callbacks=[tracker])"
   ]
  },
  {
   "cell_type": "code",
   "execution_count": 36,
   "metadata": {},
   "outputs": [
    {
     "data": {
      "text/plain": [
       "[1, 2, 3]"
      ]
     },
     "execution_count": 36,
     "metadata": {},
     "output_type": "execute_result"
    }
   ],
   "source": [
    "tracker.history"
   ]
  },
  {
   "cell_type": "code",
   "execution_count": null,
   "metadata": {},
   "outputs": [],
   "source": []
  }
 ],
 "metadata": {
  "kernelspec": {
   "display_name": "practice",
   "language": "python",
   "name": "python3"
  },
  "language_info": {
   "codemirror_mode": {
    "name": "ipython",
    "version": 3
   },
   "file_extension": ".py",
   "mimetype": "text/x-python",
   "name": "python",
   "nbconvert_exporter": "python",
   "pygments_lexer": "ipython3",
   "version": "3.9.13"
  },
  "orig_nbformat": 4,
  "vscode": {
   "interpreter": {
    "hash": "c06ae637b7da8eb950c0dd98a45979aa0f644ed5e4b97c8a5f19bad93d3c1c0d"
   }
  }
 },
 "nbformat": 4,
 "nbformat_minor": 2
}
