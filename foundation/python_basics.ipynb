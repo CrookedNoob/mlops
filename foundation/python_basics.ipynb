{
 "cells": [
  {
   "cell_type": "code",
   "execution_count": 3,
   "metadata": {},
   "outputs": [
    {
     "name": "stdout",
     "output_type": "stream",
     "text": [
      "5\n",
      "<class 'int'>\n"
     ]
    }
   ],
   "source": [
    "x = 5\n",
    "print(x)\n",
    "print(type(x))"
   ]
  },
  {
   "cell_type": "code",
   "execution_count": 4,
   "metadata": {},
   "outputs": [
    {
     "name": "stdout",
     "output_type": "stream",
     "text": [
      "hello python\n",
      "<class 'str'>\n"
     ]
    }
   ],
   "source": [
    "x = \"hello python\"\n",
    "print(x)\n",
    "print(type(x))"
   ]
  },
  {
   "cell_type": "code",
   "execution_count": 6,
   "metadata": {},
   "outputs": [
    {
     "name": "stdout",
     "output_type": "stream",
     "text": [
      "hello python <class 'str'>\n"
     ]
    }
   ],
   "source": [
    "print(x, type(x))"
   ]
  },
  {
   "cell_type": "code",
   "execution_count": 8,
   "metadata": {},
   "outputs": [
    {
     "name": "stdout",
     "output_type": "stream",
     "text": [
      "2.09 <class 'float'>\n"
     ]
    }
   ],
   "source": [
    "x = 2.09\n",
    "print(x, type(x))"
   ]
  },
  {
   "cell_type": "code",
   "execution_count": 10,
   "metadata": {},
   "outputs": [
    {
     "name": "stdout",
     "output_type": "stream",
     "text": [
      "25\n"
     ]
    }
   ],
   "source": [
    "a = 22\n",
    "b = 3\n",
    "print(a + b)"
   ]
  },
  {
   "cell_type": "code",
   "execution_count": 13,
   "metadata": {},
   "outputs": [
    {
     "name": "stdout",
     "output_type": "stream",
     "text": [
      "aforapple\n"
     ]
    }
   ],
   "source": [
    "a = \"a\"\n",
    "b = \"for\"\n",
    "c = \"apple\"\n",
    "\n",
    "print(a + b + c)"
   ]
  },
  {
   "cell_type": "code",
   "execution_count": 16,
   "metadata": {},
   "outputs": [
    {
     "name": "stdout",
     "output_type": "stream",
     "text": [
      "['32', 'vamos', 22, 29.19] <class 'list'>\n",
      "4\n"
     ]
    }
   ],
   "source": [
    "# List\n",
    "x = [\"32\", \"vamos\", 22, 29.19]\n",
    "print(x, type(x))\n",
    "print(len(x))"
   ]
  },
  {
   "cell_type": "code",
   "execution_count": 18,
   "metadata": {},
   "outputs": [],
   "source": [
    "x.append(21)"
   ]
  },
  {
   "cell_type": "code",
   "execution_count": 20,
   "metadata": {},
   "outputs": [
    {
     "name": "stdout",
     "output_type": "stream",
     "text": [
      "['32', 'vamos', 22, 29.19, 21, 21, 23, 'TLOU', 23, 'TLOU']\n"
     ]
    }
   ],
   "source": [
    "y = [23, \"TLOU\"]\n",
    "x.extend(y)\n",
    "print(x)"
   ]
  },
  {
   "cell_type": "code",
   "execution_count": 23,
   "metadata": {},
   "outputs": [
    {
     "name": "stdout",
     "output_type": "stream",
     "text": [
      "['32', 'vamos', 22, 29.19, '99', 21, 23, 'TLOU', 23, 'TLOU']\n",
      "['32', 'vamos', 22, 29.19, '99', 21, 23, 'TLOU', 23, 'TLOU', 'hello', 'python', 'mlops', 'beginner', 7]\n"
     ]
    }
   ],
   "source": [
    "x[4] = \"99\"\n",
    "print(x)\n",
    "z = [\"hello\", \"python\", \"mlops\", \"beginner\", 7]\n",
    "print(x+z)"
   ]
  },
  {
   "cell_type": "code",
   "execution_count": 29,
   "metadata": {},
   "outputs": [
    {
     "name": "stdout",
     "output_type": "stream",
     "text": [
      "(3.0, 'hello') <class 'tuple'>\n"
     ]
    }
   ],
   "source": [
    "# Tuples\n",
    "x = (3.0, \"hello\")\n",
    "print(x, type(x))"
   ]
  },
  {
   "cell_type": "code",
   "execution_count": 30,
   "metadata": {},
   "outputs": [
    {
     "name": "stdout",
     "output_type": "stream",
     "text": [
      "(3.0, 'hello', 51, 'messi', 'ronaldo')\n"
     ]
    }
   ],
   "source": [
    "x = x + (51, \"messi\", \"ronaldo\")\n",
    "print(x)"
   ]
  },
  {
   "cell_type": "code",
   "execution_count": 31,
   "metadata": {},
   "outputs": [
    {
     "ename": "TypeError",
     "evalue": "'tuple' object does not support item assignment",
     "output_type": "error",
     "traceback": [
      "\u001b[1;31m---------------------------------------------------------------------------\u001b[0m",
      "\u001b[1;31mTypeError\u001b[0m                                 Traceback (most recent call last)",
      "\u001b[1;32mc:\\Users\\soumy\\OneDrive\\Documents\\python_scripts\\mlops\\foundation\\python_basics.ipynb Cell 13\u001b[0m in \u001b[0;36m<cell line: 1>\u001b[1;34m()\u001b[0m\n\u001b[1;32m----> <a href='vscode-notebook-cell:/c%3A/Users/soumy/OneDrive/Documents/python_scripts/mlops/foundation/python_basics.ipynb#X15sZmlsZQ%3D%3D?line=0'>1</a>\u001b[0m x[\u001b[39m4\u001b[39m] \u001b[39m=\u001b[39m \u001b[39m\"\u001b[39m\u001b[39mneyman\u001b[39m\u001b[39m\"\u001b[39m\n",
      "\u001b[1;31mTypeError\u001b[0m: 'tuple' object does not support item assignment"
     ]
    }
   ],
   "source": [
    "x[4] = \"neyman\""
   ]
  },
  {
   "cell_type": "code",
   "execution_count": 34,
   "metadata": {},
   "outputs": [
    {
     "name": "stdout",
     "output_type": "stream",
     "text": [
      "{'j', 'b', 'f', 'r', 't', 'o', 'h', 'E', 'l', 'n', 'i', ' ', 'u', 'c', 'a', 'e', 'm', 's'}\n",
      "{'of', 'the', 'father', 'all', 'subjects', 'is', 'Economics'}\n"
     ]
    }
   ],
   "source": [
    "# Set\n",
    "text = \"Economics is the father of all subjects\"\n",
    "print(set(text))\n",
    "print(set(text.split(\" \")))"
   ]
  },
  {
   "cell_type": "code",
   "execution_count": 39,
   "metadata": {},
   "outputs": [
    {
     "name": "stdout",
     "output_type": "stream",
     "text": [
      "x[0]: hello\n",
      "x[1]: python\n",
      "x[3]: 7\n",
      "x[-2]: 2.3\n"
     ]
    }
   ],
   "source": [
    "# Indexing\n",
    "x = [\"hello\", \"python\", \"mlops\", 2.3, 7]\n",
    "print(f\"x[0]: {x[0]}\")\n",
    "print(f\"x[1]: {x[1]}\")\n",
    "print(f\"x[4]: {x[4]}\")\n",
    "print(f\"x[-2]: {x[-2]}\")"
   ]
  },
  {
   "cell_type": "code",
   "execution_count": 46,
   "metadata": {},
   "outputs": [
    {
     "name": "stdout",
     "output_type": "stream",
     "text": [
      "x[:]: ['hello', 'python', 'mlops', 2.3, 7]\n",
      "x[1:]: ['python', 'mlops', 2.3, 7]\n",
      "x[2:4]: ['mlops', 2.3]\n",
      "x[-2:]: [2.3, 7]\n",
      "x[::-2]: [7, 'mlops', 'hello']\n"
     ]
    }
   ],
   "source": [
    "# Slicing\n",
    "x = [\"hello\", \"python\", \"mlops\", 2.3, 7]\n",
    "print(f\"x[:]: {x[:]}\")\n",
    "print(f\"x[1:]: {x[1:]}\")\n",
    "print(f\"x[2:4]: {x[2:4]}\")\n",
    "print(f\"x[-2:]: {x[-2:]}\")\n",
    "print(f\"x[::-2]: {x[::-2]}\")"
   ]
  },
  {
   "cell_type": "code",
   "execution_count": 4,
   "metadata": {},
   "outputs": [
    {
     "name": "stdout",
     "output_type": "stream",
     "text": [
      "{'name': 'Batman', 'comics': 'DC'}\n",
      "Batman\n",
      "DC\n"
     ]
    }
   ],
   "source": [
    "# Dictionaries\n",
    "\n",
    "character = {\"name\": \"Batman\", \"comics\": \"DC\"}\n",
    "print(character)\n",
    "\n",
    "print(character[\"name\"])\n",
    "print(character[\"comics\"])"
   ]
  },
  {
   "cell_type": "code",
   "execution_count": 6,
   "metadata": {},
   "outputs": [
    {
     "name": "stdout",
     "output_type": "stream",
     "text": [
      "{'name': 'Batman', 'comics': 'DC', 'dress_color': 'black'}\n"
     ]
    }
   ],
   "source": [
    "character[\"dress_color\"] = \"black\"\n",
    "\n",
    "print(character)"
   ]
  },
  {
   "cell_type": "code",
   "execution_count": 8,
   "metadata": {},
   "outputs": [
    {
     "data": {
      "text/plain": [
       "3"
      ]
     },
     "execution_count": 8,
     "metadata": {},
     "output_type": "execute_result"
    }
   ],
   "source": [
    "len(character)"
   ]
  },
  {
   "cell_type": "code",
   "execution_count": 17,
   "metadata": {},
   "outputs": [
    {
     "name": "stdout",
     "output_type": "stream",
     "text": [
      "{'a': 7, 'b': 3, 'c': 9}\n"
     ]
    }
   ],
   "source": [
    "from collections import OrderedDict\n",
    "\n",
    "d = {}\n",
    "d[\"a\"] = 7\n",
    "d[\"b\"] = 3\n",
    "d[\"c\"] = 9\n",
    "\n",
    "print(d)"
   ]
  },
  {
   "cell_type": "code",
   "execution_count": 18,
   "metadata": {},
   "outputs": [
    {
     "name": "stdout",
     "output_type": "stream",
     "text": [
      "dict_items([('a', 7), ('b', 3), ('c', 9)])\n"
     ]
    }
   ],
   "source": [
    "print(d.items())"
   ]
  },
  {
   "cell_type": "code",
   "execution_count": 19,
   "metadata": {},
   "outputs": [
    {
     "name": "stdout",
     "output_type": "stream",
     "text": [
      "OrderedDict([('a', 7), ('b', 3), ('c', 9)])\n"
     ]
    }
   ],
   "source": [
    "print(OrderedDict(sorted(d.items())))"
   ]
  },
  {
   "cell_type": "code",
   "execution_count": 21,
   "metadata": {},
   "outputs": [
    {
     "data": {
      "text/plain": [
       "OrderedDict([('b', 3), ('a', 7), ('c', 9)])"
      ]
     },
     "execution_count": 21,
     "metadata": {},
     "output_type": "execute_result"
    }
   ],
   "source": [
    "OrderedDict(sorted(d.items(), key=lambda x: x[1]))"
   ]
  },
  {
   "cell_type": "code",
   "execution_count": 23,
   "metadata": {},
   "outputs": [
    {
     "name": "stdout",
     "output_type": "stream",
     "text": [
      "high\n"
     ]
    }
   ],
   "source": [
    "# IF else\n",
    "x = 22\n",
    "if x < 20:\n",
    "    print(\"low\")\n",
    "else:\n",
    "    print(\"high\")"
   ]
  },
  {
   "cell_type": "code",
   "execution_count": 24,
   "metadata": {},
   "outputs": [
    {
     "name": "stdout",
     "output_type": "stream",
     "text": [
      "TRUE\n"
     ]
    }
   ],
   "source": [
    "x = True\n",
    "if x:\n",
    "    print(\"TRUE\")"
   ]
  },
  {
   "cell_type": "code",
   "execution_count": 26,
   "metadata": {},
   "outputs": [],
   "source": [
    "x = False\n",
    "if x:\n",
    "    print(\"TRUE\")"
   ]
  },
  {
   "cell_type": "code",
   "execution_count": 29,
   "metadata": {},
   "outputs": [
    {
     "name": "stdout",
     "output_type": "stream",
     "text": [
      "Item 1: fries\n",
      "Item 2: burger\n",
      "Item 3: pizza\n",
      "Item 4: taco\n"
     ]
    }
   ],
   "source": [
    "# For loop\n",
    "\n",
    "foods = [\"fries\", \"burger\", \"pizza\", \"taco\"]\n",
    "\n",
    "for i, food in enumerate(foods):\n",
    "    print(f\"Item {i+1}: {food}\")"
   ]
  },
  {
   "cell_type": "code",
   "execution_count": 33,
   "metadata": {},
   "outputs": [
    {
     "name": "stdout",
     "output_type": "stream",
     "text": [
      "Item 1: fries\n",
      "Item 2: burger\n"
     ]
    }
   ],
   "source": [
    "foods = [\"fries\", \"burger\", \"pizza\", \"taco\"]\n",
    "\n",
    "for i, food in enumerate(foods):\n",
    "    if food == \"pizza\":\n",
    "        break\n",
    "    print(f\"Item {i+1}: {food}\")"
   ]
  },
  {
   "cell_type": "code",
   "execution_count": 34,
   "metadata": {},
   "outputs": [
    {
     "name": "stdout",
     "output_type": "stream",
     "text": [
      "Item 1: fries\n",
      "Item 2: burger\n",
      "Item 4: taco\n"
     ]
    }
   ],
   "source": [
    "foods = [\"fries\", \"burger\", \"pizza\", \"taco\"]\n",
    "\n",
    "for i, food in enumerate(foods):\n",
    "    if food == \"pizza\":\n",
    "        continue\n",
    "    print(f\"Item {i+1}: {food}\")"
   ]
  },
  {
   "cell_type": "code",
   "execution_count": null,
   "metadata": {},
   "outputs": [],
   "source": []
  }
 ],
 "metadata": {
  "kernelspec": {
   "display_name": "practice",
   "language": "python",
   "name": "python3"
  },
  "language_info": {
   "codemirror_mode": {
    "name": "ipython",
    "version": 3
   },
   "file_extension": ".py",
   "mimetype": "text/x-python",
   "name": "python",
   "nbconvert_exporter": "python",
   "pygments_lexer": "ipython3",
   "version": "3.9.13"
  },
  "orig_nbformat": 4,
  "vscode": {
   "interpreter": {
    "hash": "c06ae637b7da8eb950c0dd98a45979aa0f644ed5e4b97c8a5f19bad93d3c1c0d"
   }
  }
 },
 "nbformat": 4,
 "nbformat_minor": 2
}
