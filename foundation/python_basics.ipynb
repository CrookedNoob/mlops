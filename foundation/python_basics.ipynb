{
 "cells": [
  {
   "cell_type": "code",
   "execution_count": 3,
   "metadata": {},
   "outputs": [
    {
     "name": "stdout",
     "output_type": "stream",
     "text": [
      "5\n",
      "<class 'int'>\n"
     ]
    }
   ],
   "source": [
    "x = 5\n",
    "print(x)\n",
    "print(type(x))"
   ]
  },
  {
   "cell_type": "code",
   "execution_count": 4,
   "metadata": {},
   "outputs": [
    {
     "name": "stdout",
     "output_type": "stream",
     "text": [
      "hello python\n",
      "<class 'str'>\n"
     ]
    }
   ],
   "source": [
    "x = \"hello python\"\n",
    "print(x)\n",
    "print(type(x))"
   ]
  },
  {
   "cell_type": "code",
   "execution_count": 6,
   "metadata": {},
   "outputs": [
    {
     "name": "stdout",
     "output_type": "stream",
     "text": [
      "hello python <class 'str'>\n"
     ]
    }
   ],
   "source": [
    "print(x, type(x))"
   ]
  },
  {
   "cell_type": "code",
   "execution_count": 8,
   "metadata": {},
   "outputs": [
    {
     "name": "stdout",
     "output_type": "stream",
     "text": [
      "2.09 <class 'float'>\n"
     ]
    }
   ],
   "source": [
    "x = 2.09\n",
    "print(x, type(x))"
   ]
  },
  {
   "cell_type": "code",
   "execution_count": 10,
   "metadata": {},
   "outputs": [
    {
     "name": "stdout",
     "output_type": "stream",
     "text": [
      "25\n"
     ]
    }
   ],
   "source": [
    "a = 22\n",
    "b = 3\n",
    "print(a + b)"
   ]
  },
  {
   "cell_type": "code",
   "execution_count": 13,
   "metadata": {},
   "outputs": [
    {
     "name": "stdout",
     "output_type": "stream",
     "text": [
      "aforapple\n"
     ]
    }
   ],
   "source": [
    "a = \"a\"\n",
    "b = \"for\"\n",
    "c = \"apple\"\n",
    "\n",
    "print(a + b + c)"
   ]
  },
  {
   "cell_type": "code",
   "execution_count": 16,
   "metadata": {},
   "outputs": [
    {
     "name": "stdout",
     "output_type": "stream",
     "text": [
      "['32', 'vamos', 22, 29.19] <class 'list'>\n",
      "4\n"
     ]
    }
   ],
   "source": [
    "# List\n",
    "x = [\"32\", \"vamos\", 22, 29.19]\n",
    "print(x, type(x))\n",
    "print(len(x))"
   ]
  },
  {
   "cell_type": "code",
   "execution_count": 18,
   "metadata": {},
   "outputs": [],
   "source": [
    "x.append(21)"
   ]
  },
  {
   "cell_type": "code",
   "execution_count": 20,
   "metadata": {},
   "outputs": [
    {
     "name": "stdout",
     "output_type": "stream",
     "text": [
      "['32', 'vamos', 22, 29.19, 21, 21, 23, 'TLOU', 23, 'TLOU']\n"
     ]
    }
   ],
   "source": [
    "y = [23, \"TLOU\"]\n",
    "x.extend(y)\n",
    "print(x)"
   ]
  },
  {
   "cell_type": "code",
   "execution_count": 23,
   "metadata": {},
   "outputs": [
    {
     "name": "stdout",
     "output_type": "stream",
     "text": [
      "['32', 'vamos', 22, 29.19, '99', 21, 23, 'TLOU', 23, 'TLOU']\n",
      "['32', 'vamos', 22, 29.19, '99', 21, 23, 'TLOU', 23, 'TLOU', 'hello', 'python', 'mlops', 'beginner', 7]\n"
     ]
    }
   ],
   "source": [
    "x[4] = \"99\"\n",
    "print(x)\n",
    "z = [\"hello\", \"python\", \"mlops\", \"beginner\", 7]\n",
    "print(x+z)"
   ]
  },
  {
   "cell_type": "code",
   "execution_count": 29,
   "metadata": {},
   "outputs": [
    {
     "name": "stdout",
     "output_type": "stream",
     "text": [
      "(3.0, 'hello') <class 'tuple'>\n"
     ]
    }
   ],
   "source": [
    "# Tuples\n",
    "x = (3.0, \"hello\")\n",
    "print(x, type(x))"
   ]
  },
  {
   "cell_type": "code",
   "execution_count": 30,
   "metadata": {},
   "outputs": [
    {
     "name": "stdout",
     "output_type": "stream",
     "text": [
      "(3.0, 'hello', 51, 'messi', 'ronaldo')\n"
     ]
    }
   ],
   "source": [
    "x = x + (51, \"messi\", \"ronaldo\")\n",
    "print(x)"
   ]
  },
  {
   "cell_type": "code",
   "execution_count": 31,
   "metadata": {},
   "outputs": [
    {
     "ename": "TypeError",
     "evalue": "'tuple' object does not support item assignment",
     "output_type": "error",
     "traceback": [
      "\u001b[1;31m---------------------------------------------------------------------------\u001b[0m",
      "\u001b[1;31mTypeError\u001b[0m                                 Traceback (most recent call last)",
      "\u001b[1;32mc:\\Users\\soumy\\OneDrive\\Documents\\python_scripts\\mlops\\foundation\\python_basics.ipynb Cell 13\u001b[0m in \u001b[0;36m<cell line: 1>\u001b[1;34m()\u001b[0m\n\u001b[1;32m----> <a href='vscode-notebook-cell:/c%3A/Users/soumy/OneDrive/Documents/python_scripts/mlops/foundation/python_basics.ipynb#X15sZmlsZQ%3D%3D?line=0'>1</a>\u001b[0m x[\u001b[39m4\u001b[39m] \u001b[39m=\u001b[39m \u001b[39m\"\u001b[39m\u001b[39mneyman\u001b[39m\u001b[39m\"\u001b[39m\n",
      "\u001b[1;31mTypeError\u001b[0m: 'tuple' object does not support item assignment"
     ]
    }
   ],
   "source": [
    "x[4] = \"neyman\""
   ]
  },
  {
   "cell_type": "code",
   "execution_count": 34,
   "metadata": {},
   "outputs": [
    {
     "name": "stdout",
     "output_type": "stream",
     "text": [
      "{'j', 'b', 'f', 'r', 't', 'o', 'h', 'E', 'l', 'n', 'i', ' ', 'u', 'c', 'a', 'e', 'm', 's'}\n",
      "{'of', 'the', 'father', 'all', 'subjects', 'is', 'Economics'}\n"
     ]
    }
   ],
   "source": [
    "# Set\n",
    "text = \"Economics is the father of all subjects\"\n",
    "print(set(text))\n",
    "print(set(text.split(\" \")))"
   ]
  },
  {
   "cell_type": "code",
   "execution_count": 39,
   "metadata": {},
   "outputs": [
    {
     "name": "stdout",
     "output_type": "stream",
     "text": [
      "x[0]: hello\n",
      "x[1]: python\n",
      "x[3]: 7\n",
      "x[-2]: 2.3\n"
     ]
    }
   ],
   "source": [
    "# Indexing\n",
    "x = [\"hello\", \"python\", \"mlops\", 2.3, 7]\n",
    "print(f\"x[0]: {x[0]}\")\n",
    "print(f\"x[1]: {x[1]}\")\n",
    "print(f\"x[4]: {x[4]}\")\n",
    "print(f\"x[-2]: {x[-2]}\")"
   ]
  },
  {
   "cell_type": "code",
   "execution_count": 46,
   "metadata": {},
   "outputs": [
    {
     "name": "stdout",
     "output_type": "stream",
     "text": [
      "x[:]: ['hello', 'python', 'mlops', 2.3, 7]\n",
      "x[1:]: ['python', 'mlops', 2.3, 7]\n",
      "x[2:4]: ['mlops', 2.3]\n",
      "x[-2:]: [2.3, 7]\n",
      "x[::-2]: [7, 'mlops', 'hello']\n"
     ]
    }
   ],
   "source": [
    "# Slicing\n",
    "x = [\"hello\", \"python\", \"mlops\", 2.3, 7]\n",
    "print(f\"x[:]: {x[:]}\")\n",
    "print(f\"x[1:]: {x[1:]}\")\n",
    "print(f\"x[2:4]: {x[2:4]}\")\n",
    "print(f\"x[-2:]: {x[-2:]}\")\n",
    "print(f\"x[::-2]: {x[::-2]}\")"
   ]
  },
  {
   "cell_type": "code",
   "execution_count": null,
   "metadata": {},
   "outputs": [],
   "source": [
    "# Dictionaries"
   ]
  }
 ],
 "metadata": {
  "kernelspec": {
   "display_name": "base",
   "language": "python",
   "name": "python3"
  },
  "language_info": {
   "codemirror_mode": {
    "name": "ipython",
    "version": 3
   },
   "file_extension": ".py",
   "mimetype": "text/x-python",
   "name": "python",
   "nbconvert_exporter": "python",
   "pygments_lexer": "ipython3",
   "version": "3.9.12"
  },
  "orig_nbformat": 4,
  "vscode": {
   "interpreter": {
    "hash": "203fb68ed9506319b861e78955e2d4bc919f8e099456321c2bb5549ddb2a14aa"
   }
  }
 },
 "nbformat": 4,
 "nbformat_minor": 2
}
