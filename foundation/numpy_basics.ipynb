{
 "cells": [
  {
   "cell_type": "code",
   "execution_count": 2,
   "metadata": {},
   "outputs": [],
   "source": [
    "import numpy as np"
   ]
  },
  {
   "cell_type": "code",
   "execution_count": 3,
   "metadata": {},
   "outputs": [],
   "source": [
    "np.random.seed(145)"
   ]
  },
  {
   "cell_type": "code",
   "execution_count": 4,
   "metadata": {},
   "outputs": [
    {
     "name": "stdout",
     "output_type": "stream",
     "text": [
      "x: 6\n",
      "x no. of dimensions: 0\n",
      "x shape: ()\n",
      "x size: 1\n",
      "x data type: int32\n"
     ]
    }
   ],
   "source": [
    "x = np.array(6)\n",
    "print(f\"x: {x}\")\n",
    "print(f\"x no. of dimensions: {x.ndim}\")\n",
    "print(f\"x shape: {x.shape}\")\n",
    "print(f\"x size: {x.size}\")\n",
    "print(f\"x data type: {x.dtype}\")"
   ]
  },
  {
   "cell_type": "code",
   "execution_count": 5,
   "metadata": {},
   "outputs": [
    {
     "name": "stdout",
     "output_type": "stream",
     "text": [
      "x: [ 1.3   4.    3.7  22.14]\n",
      "x no. of dimensions: 1\n",
      "x shape: (4,)\n",
      "x size: 4\n",
      "x data type: float64\n"
     ]
    }
   ],
   "source": [
    "x = np.array([1.3, 4.0, 3.7, 22.14])\n",
    "print(f\"x: {x}\")\n",
    "print(f\"x no. of dimensions: {x.ndim}\")\n",
    "print(f\"x shape: {x.shape}\")\n",
    "print(f\"x size: {x.size}\")\n",
    "print(f\"x data type: {x.dtype}\")"
   ]
  },
  {
   "cell_type": "code",
   "execution_count": 6,
   "metadata": {},
   "outputs": [
    {
     "name": "stdout",
     "output_type": "stream",
     "text": [
      "x: [[ 1.3   4.  ]\n",
      " [ 3.7  22.14]]\n",
      "x no. of dimensions: 2\n",
      "x shape: (2, 2)\n",
      "x size: 4\n",
      "x data type: float64\n"
     ]
    }
   ],
   "source": [
    "x = np.array([[1.3, 4.0], [3.7, 22.14]])\n",
    "print(f\"x: {x}\")\n",
    "print(f\"x no. of dimensions: {x.ndim}\")\n",
    "print(f\"x shape: {x.shape}\")\n",
    "print(f\"x size: {x.size}\")\n",
    "print(f\"x data type: {x.dtype}\")"
   ]
  },
  {
   "cell_type": "code",
   "execution_count": 7,
   "metadata": {},
   "outputs": [
    {
     "data": {
      "text/plain": [
       "array([[0., 0., 0.],\n",
       "       [0., 0., 0.]])"
      ]
     },
     "execution_count": 7,
     "metadata": {},
     "output_type": "execute_result"
    }
   ],
   "source": [
    "np.zeros((2,3))"
   ]
  },
  {
   "cell_type": "code",
   "execution_count": 8,
   "metadata": {},
   "outputs": [
    {
     "data": {
      "text/plain": [
       "array([[1., 1., 1., 1.],\n",
       "       [1., 1., 1., 1.]])"
      ]
     },
     "execution_count": 8,
     "metadata": {},
     "output_type": "execute_result"
    }
   ],
   "source": [
    "np.ones((2,4))"
   ]
  },
  {
   "cell_type": "code",
   "execution_count": 9,
   "metadata": {},
   "outputs": [
    {
     "data": {
      "text/plain": [
       "array([[1., 0., 0., 0.],\n",
       "       [0., 1., 0., 0.],\n",
       "       [0., 0., 1., 0.],\n",
       "       [0., 0., 0., 1.]])"
      ]
     },
     "execution_count": 9,
     "metadata": {},
     "output_type": "execute_result"
    }
   ],
   "source": [
    "np.eye(4)"
   ]
  },
  {
   "cell_type": "code",
   "execution_count": 10,
   "metadata": {},
   "outputs": [
    {
     "data": {
      "text/plain": [
       "array([[0.28304195, 0.0020298 , 0.53057896, 0.08036104, 0.65225755],\n",
       "       [0.77073903, 0.59813958, 0.32668356, 0.69757615, 0.49534452],\n",
       "       [0.94822338, 0.57269538, 0.17417718, 0.09219379, 0.06841918]])"
      ]
     },
     "execution_count": 10,
     "metadata": {},
     "output_type": "execute_result"
    }
   ],
   "source": [
    "np.random.random((3,5))"
   ]
  },
  {
   "cell_type": "code",
   "execution_count": 11,
   "metadata": {},
   "outputs": [
    {
     "data": {
      "text/plain": [
       "array([0, 4])"
      ]
     },
     "execution_count": 11,
     "metadata": {},
     "output_type": "execute_result"
    }
   ],
   "source": [
    "np.random.randint((2,5))"
   ]
  },
  {
   "cell_type": "code",
   "execution_count": 12,
   "metadata": {},
   "outputs": [
    {
     "name": "stderr",
     "output_type": "stream",
     "text": [
      "C:\\Users\\majumder\\AppData\\Local\\Temp\\ipykernel_16188\\339360557.py:1: DeprecationWarning: This function is deprecated. Please call randint(1, 5 + 1) instead\n",
      "  np.random.random_integers(5)\n"
     ]
    },
    {
     "data": {
      "text/plain": [
       "3"
      ]
     },
     "execution_count": 12,
     "metadata": {},
     "output_type": "execute_result"
    }
   ],
   "source": [
    "np.random.random_integers(5)"
   ]
  },
  {
   "cell_type": "code",
   "execution_count": 13,
   "metadata": {},
   "outputs": [
    {
     "name": "stdout",
     "output_type": "stream",
     "text": [
      "3.7\n",
      "[[ 1.3   2.11]\n",
      " [ 3.7  22.14]]\n"
     ]
    }
   ],
   "source": [
    "# Indexing\n",
    "\n",
    "x = np.array([[1.3, 4.0], [3.7, 22.14]])\n",
    "print(x[1][0])\n",
    "x[0][1]=2.11\n",
    "print(x)"
   ]
  },
  {
   "cell_type": "code",
   "execution_count": 14,
   "metadata": {},
   "outputs": [
    {
     "name": "stdout",
     "output_type": "stream",
     "text": [
      "[[ 1  2  3  4]\n",
      " [ 5  6  7  8]\n",
      " [ 9 10 11 12]]\n"
     ]
    },
    {
     "data": {
      "text/plain": [
       "array([[1, 2, 3, 4],\n",
       "       [5, 6, 7, 8]])"
      ]
     },
     "execution_count": 14,
     "metadata": {},
     "output_type": "execute_result"
    }
   ],
   "source": [
    "# Slicing\n",
    "\n",
    "x = np.array([[1,2,3,4], [5,6,7,8], [9,10,11,12]])\n",
    "print (x)\n",
    "\n",
    "x[:2]"
   ]
  },
  {
   "cell_type": "code",
   "execution_count": 15,
   "metadata": {},
   "outputs": [
    {
     "name": "stdout",
     "output_type": "stream",
     "text": [
      "[[ 1  2  3  4]\n",
      " [ 5  6  7  8]\n",
      " [ 9 10 11 12]]\n",
      "rows: [1, 2, 0]\n",
      "cols: [3, 0, 1]\n",
      "indexed values: [8 9 2]\n"
     ]
    }
   ],
   "source": [
    "# Indexing\n",
    "print(x)\n",
    "rows = [1, 2, 0]\n",
    "cols = [3, 0, 1]\n",
    "\n",
    "print(f\"rows: {rows}\")\n",
    "print(f\"cols: {cols}\")\n",
    "\n",
    "print(f\"indexed values: {x[rows, cols]}\")"
   ]
  },
  {
   "cell_type": "code",
   "execution_count": 16,
   "metadata": {},
   "outputs": [
    {
     "name": "stdout",
     "output_type": "stream",
     "text": [
      "[ 6  7  8  9 10 11 12]\n",
      "[[False False  True  True]\n",
      " [ True  True  True  True]\n",
      " [ True  True  True  True]]\n"
     ]
    }
   ],
   "source": [
    "# Boolean Indexing\n",
    "\n",
    "print(x[x>5])\n",
    "print(x>2)"
   ]
  },
  {
   "cell_type": "code",
   "execution_count": 17,
   "metadata": {},
   "outputs": [
    {
     "name": "stdout",
     "output_type": "stream",
     "text": [
      "add: [[ 4.4    6.92 ]\n",
      " [10.08  11.662]]\n"
     ]
    }
   ],
   "source": [
    "# Arithmetic\n",
    "\n",
    "x = np.array([[1.3, 2.2], [5.76, 6.121]], dtype=np.float64)\n",
    "y = np.array([[3.1, 4.72], [4.32, 5.541]], dtype=np.float64)\n",
    "\n",
    "print(f\"add: {np.add(x, y)}\")"
   ]
  },
  {
   "cell_type": "code",
   "execution_count": 18,
   "metadata": {},
   "outputs": [
    {
     "name": "stdout",
     "output_type": "stream",
     "text": [
      "(2, 2) * (2, 2) = (2, 2)\n",
      "[[13.534    18.3262  ]\n",
      " [44.29872  61.103661]]\n"
     ]
    }
   ],
   "source": [
    "# Dot product\n",
    "\n",
    "x = np.array([[1.3, 2.2], [5.76, 6.121]], dtype=np.float64)\n",
    "y = np.array([[3.1, 4.72], [4.32, 5.541]], dtype=np.float64)\n",
    "\n",
    "z = np.dot(x, y)\n",
    "\n",
    "print(f\"{x.shape} * {y.shape} = {z.shape}\")\n",
    "print(z)"
   ]
  },
  {
   "cell_type": "code",
   "execution_count": 19,
   "metadata": {},
   "outputs": [
    {
     "name": "stdout",
     "output_type": "stream",
     "text": [
      "[[1 2]\n",
      " [4 5]]\n",
      "Sum of all elements: 12\n",
      "Sum of all elements across rows: [5 7]\n",
      "Sum of all elements across columns: [3 9]\n"
     ]
    }
   ],
   "source": [
    "# Axis Operations\n",
    "\n",
    "x = np.array([[1, 2], \n",
    "             [4, 5]])\n",
    "print(x)\n",
    "print(f\"Sum of all elements: {np.sum(x)}\")\n",
    "print(f\"Sum of all elements across rows: {np.sum(x, axis=0)}\")\n",
    "print(f\"Sum of all elements across columns: {np.sum(x, axis=1)}\")"
   ]
  },
  {
   "cell_type": "code",
   "execution_count": 20,
   "metadata": {},
   "outputs": [
    {
     "name": "stdout",
     "output_type": "stream",
     "text": [
      "[[1 2 3]\n",
      " [4 5 6]]\n",
      "Minimum of all elements: 1\n",
      "Maximum of all elements: 6\n",
      "Minimum of all elements across rows: [1 2 3]\n",
      "Maximum of all elements across rows: [4 5 6]\n",
      "Minimum of all elements across columns: [1 4]\n",
      "Maximum of all elements across columns: [3 6]\n"
     ]
    }
   ],
   "source": [
    "# Min/ Max\n",
    "\n",
    "x = np.array([[1, 2, 3],\n",
    "             [4, 5, 6]])\n",
    "print(x)\n",
    "\n",
    "print(f\"Minimum of all elements: {np.min(x)}\")\n",
    "print(f\"Maximum of all elements: {np.max(x)}\")\n",
    "\n",
    "print(f\"Minimum of all elements across rows: {np.min(x, axis=0)}\")\n",
    "print(f\"Maximum of all elements across rows: {np.max(x, axis=0)}\")\n",
    "\n",
    "print(f\"Minimum of all elements across columns: {np.min(x, axis=1)}\")\n",
    "print(f\"Maximum of all elements across columns: {np.max(x, axis=1)}\")"
   ]
  },
  {
   "cell_type": "code",
   "execution_count": 21,
   "metadata": {},
   "outputs": [
    {
     "name": "stdout",
     "output_type": "stream",
     "text": [
      "Broadcast: [21 11]\n"
     ]
    }
   ],
   "source": [
    "# Broadcast\n",
    "\n",
    "x = np.array([19, 9])\n",
    "y = np.array(2)\n",
    "\n",
    "z = x + y\n",
    "\n",
    "print(f\"Broadcast: {z}\")"
   ]
  },
  {
   "cell_type": "code",
   "execution_count": 22,
   "metadata": {},
   "outputs": [
    {
     "name": "stdout",
     "output_type": "stream",
     "text": [
      "[[4 5 6]\n",
      " [5 6 7]\n",
      " [6 7 8]]\n",
      "Shape a: (3,), Shape b: (3, 1), Shape c: (3, 3)\n",
      "Shape a: (3, 1)\n"
     ]
    }
   ],
   "source": [
    "a = np.array([2,3,4])\n",
    "b = np.expand_dims(a, axis=1)\n",
    "c = a + b\n",
    "print(c)\n",
    "print(f\"Shape a: {a.shape}, Shape b: {b.shape}, Shape c: {c.shape}\")\n",
    "print(f\"Shape a: {a.reshape(-1,1).shape}\")"
   ]
  },
  {
   "cell_type": "code",
   "execution_count": 26,
   "metadata": {},
   "outputs": [
    {
     "name": "stdout",
     "output_type": "stream",
     "text": [
      "x shape: (2, 3)\n",
      "y shape: (3, 2)\n"
     ]
    }
   ],
   "source": [
    "# Transpose\n",
    "\n",
    "x = np.array([[1,2,3], [4,5,6]])\n",
    "print(f\"x shape: {x.shape}\")\n",
    "y = np.transpose(x, (1,0))\n",
    "print(f\"y shape: {y.shape}\")"
   ]
  },
  {
   "cell_type": "code",
   "execution_count": 28,
   "metadata": {},
   "outputs": [
    {
     "name": "stdout",
     "output_type": "stream",
     "text": [
      "x shape: (6,)\n",
      "y shape: (2, 3)\n",
      "z shape: (3, 2)\n"
     ]
    }
   ],
   "source": [
    "x = np.array([1,2,3,4,5,6])\n",
    "print(f\"x shape: {x.shape}\")\n",
    "y= np.reshape(x, (2,3))\n",
    "print(f\"y shape: {y.shape}\")\n",
    "z= np.reshape(x, (-1,2))\n",
    "print(f\"z shape: {z.shape}\")"
   ]
  },
  {
   "cell_type": "code",
   "execution_count": 29,
   "metadata": {},
   "outputs": [
    {
     "name": "stdout",
     "output_type": "stream",
     "text": [
      "x shape: (2, 3)\n",
      "[[1 2 3]\n",
      " [4 5 6]\n",
      " [1 2 3]\n",
      " [4 5 6]]\n",
      "[[1 2 3 1 2 3]\n",
      " [4 5 6 4 5 6]]\n"
     ]
    }
   ],
   "source": [
    "# Concatenation\n",
    "x = np.array([[1,2,3], [4,5,6]])\n",
    "print(f\"x shape: {x.shape}\")\n",
    "\n",
    "y = np.concatenate((x,x), axis=0)\n",
    "print(y)\n",
    "\n",
    "z = np.concatenate((x,x), axis=1)\n",
    "print(z)"
   ]
  },
  {
   "cell_type": "code",
   "execution_count": 33,
   "metadata": {},
   "outputs": [
    {
     "name": "stdout",
     "output_type": "stream",
     "text": [
      "x shape: (2, 3)\n",
      "[[[1 2 3]\n",
      "  [4 5 6]]\n",
      "\n",
      " [[1 2 3]\n",
      "  [4 5 6]]]\n",
      "(2, 2, 3)\n",
      "[[[1 2 3]\n",
      "  [1 2 3]]\n",
      "\n",
      " [[4 5 6]\n",
      "  [4 5 6]]]\n",
      "(2, 2, 3)\n"
     ]
    }
   ],
   "source": [
    "# Stacking\n",
    "x = np.array([[1,2,3], [4,5,6]])\n",
    "print(f\"x shape: {x.shape}\")\n",
    "\n",
    "y = np.stack((x,x), axis=0)\n",
    "print(y)\n",
    "print(y.shape)\n",
    "\n",
    "z = np.stack((x,x), axis=1)\n",
    "print(z)\n",
    "print(z.shape)"
   ]
  },
  {
   "cell_type": "code",
   "execution_count": 47,
   "metadata": {},
   "outputs": [
    {
     "name": "stdout",
     "output_type": "stream",
     "text": [
      "(2, 3)\n",
      "(2, 1, 3)\n",
      "(2, 3)\n"
     ]
    }
   ],
   "source": [
    "# Expandinga & reducing\n",
    "\n",
    "x = np.array([[1,2,3], [4,5,6]])\n",
    "print(x.shape)\n",
    "y = np.expand_dims(x,1)\n",
    "print(y.shape)\n",
    "z = np.squeeze(y,1)\n",
    "print(z.shape)\n"
   ]
  },
  {
   "cell_type": "code",
   "execution_count": null,
   "metadata": {},
   "outputs": [],
   "source": []
  }
 ],
 "metadata": {
  "kernelspec": {
   "display_name": "practice",
   "language": "python",
   "name": "python3"
  },
  "language_info": {
   "codemirror_mode": {
    "name": "ipython",
    "version": 3
   },
   "file_extension": ".py",
   "mimetype": "text/x-python",
   "name": "python",
   "nbconvert_exporter": "python",
   "pygments_lexer": "ipython3",
   "version": "3.9.13"
  },
  "orig_nbformat": 4,
  "vscode": {
   "interpreter": {
    "hash": "c06ae637b7da8eb950c0dd98a45979aa0f644ed5e4b97c8a5f19bad93d3c1c0d"
   }
  }
 },
 "nbformat": 4,
 "nbformat_minor": 2
}
