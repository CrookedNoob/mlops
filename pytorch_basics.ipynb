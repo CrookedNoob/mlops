{
 "cells": [
  {
   "cell_type": "code",
   "execution_count": 1,
   "metadata": {},
   "outputs": [],
   "source": [
    "import numpy as np\n",
    "import torch"
   ]
  },
  {
   "cell_type": "code",
   "execution_count": 2,
   "metadata": {},
   "outputs": [],
   "source": [
    "SEED = 143"
   ]
  },
  {
   "cell_type": "code",
   "execution_count": 3,
   "metadata": {},
   "outputs": [
    {
     "data": {
      "text/plain": [
       "<torch._C.Generator at 0x1ec9a4a3430>"
      ]
     },
     "execution_count": 3,
     "metadata": {},
     "output_type": "execute_result"
    }
   ],
   "source": [
    "np.random.seed(SEED)\n",
    "torch.manual_seed(SEED)"
   ]
  },
  {
   "cell_type": "code",
   "execution_count": 8,
   "metadata": {},
   "outputs": [
    {
     "name": "stdout",
     "output_type": "stream",
     "text": [
      "x: tensor([[0.8208, 0.6275, 0.0617],\n",
      "        [0.9273, 0.4820, 0.6807]])\n",
      "x shape: torch.Size([2, 3])\n",
      "x type: torch.FloatTensor\n"
     ]
    }
   ],
   "source": [
    "# create a random tensor\n",
    "\n",
    "x = torch.rand(2,3)\n",
    "print(f\"x: {x}\")\n",
    "print(f\"x shape: {x.shape}\")\n",
    "print(f\"x type: {x.type()}\")"
   ]
  },
  {
   "cell_type": "code",
   "execution_count": 10,
   "metadata": {},
   "outputs": [
    {
     "name": "stdout",
     "output_type": "stream",
     "text": [
      "tensor([[0., 0., 0., 0.],\n",
      "        [0., 0., 0., 0.]])\n",
      "tensor([[1., 1.],\n",
      "        [1., 1.],\n",
      "        [1., 1.],\n",
      "        [1., 1.],\n",
      "        [1., 1.]])\n"
     ]
    }
   ],
   "source": [
    "x = torch.zeros(2,4)\n",
    "print(x)\n",
    "x = torch.ones(5,2)\n",
    "print(x)"
   ]
  },
  {
   "cell_type": "code",
   "execution_count": 11,
   "metadata": {},
   "outputs": [
    {
     "name": "stdout",
     "output_type": "stream",
     "text": [
      "x: tensor([[1, 2, 3],\n",
      "        [4, 5, 6]])\n",
      "x shape: torch.Size([2, 3])\n",
      "x type: torch.LongTensor\n"
     ]
    }
   ],
   "source": [
    "x = torch.tensor([[1,2,3], [4,5,6]])\n",
    "print(f\"x: {x}\")\n",
    "print(f\"x shape: {x.shape}\")\n",
    "print(f\"x type: {x.type()}\")"
   ]
  },
  {
   "cell_type": "code",
   "execution_count": 12,
   "metadata": {},
   "outputs": [
    {
     "name": "stdout",
     "output_type": "stream",
     "text": [
      "x: tensor([[0.7378, 0.3400, 0.4681, 0.4239, 0.5683],\n",
      "        [0.8813, 0.0331, 0.0088, 0.1992, 0.1673],\n",
      "        [0.9690, 0.0566, 0.0896, 0.2796, 0.6093],\n",
      "        [0.0706, 0.5725, 0.3325, 0.2617, 0.0926]], dtype=torch.float64)\n",
      "x shape: torch.Size([4, 5])\n",
      "x type: torch.DoubleTensor\n"
     ]
    }
   ],
   "source": [
    "x = torch.tensor(np.random.rand(4,5))\n",
    "print(f\"x: {x}\")\n",
    "print(f\"x shape: {x.shape}\")\n",
    "print(f\"x type: {x.type()}\")"
   ]
  },
  {
   "cell_type": "code",
   "execution_count": 17,
   "metadata": {},
   "outputs": [
    {
     "name": "stdout",
     "output_type": "stream",
     "text": [
      "x: tensor([[0., 0., 0., 0.],\n",
      "        [0., 0., 0., 0.],\n",
      "        [0., 0., 0., 0.]])\n",
      "x shape: torch.Size([3, 4])\n",
      "x type: torch.FloatTensor\n",
      "x: tensor([[0, 0, 0, 0],\n",
      "        [0, 0, 0, 0],\n",
      "        [0, 0, 0, 0]])\n",
      "x shape: torch.Size([3, 4])\n",
      "x type: torch.LongTensor\n"
     ]
    }
   ],
   "source": [
    "x = torch.Tensor(3,4)\n",
    "print(f\"x: {x}\")\n",
    "print(f\"x shape: {x.shape}\")\n",
    "print(f\"x type: {x.type()}\")\n",
    "\n",
    "x = x.long()\n",
    "print(f\"x: {x}\")\n",
    "print(f\"x shape: {x.shape}\")\n",
    "print(f\"x type: {x.type()}\")\n"
   ]
  },
  {
   "cell_type": "code",
   "execution_count": 18,
   "metadata": {},
   "outputs": [
    {
     "name": "stdout",
     "output_type": "stream",
     "text": [
      "x: tensor([[-0.4352, -0.2858, -0.1944],\n",
      "        [-0.8054, -0.0948,  0.5615]])\n",
      "x shape: torch.Size([2, 3])\n",
      "x type: torch.FloatTensor\n"
     ]
    }
   ],
   "source": [
    "# Operations\n",
    "\n",
    "x = torch.randn(2,3)\n",
    "y = torch.randn(2,3)\n",
    "\n",
    "z = x + y\n",
    "\n",
    "print(f\"x: {z}\")\n",
    "print(f\"x shape: {z.shape}\")\n",
    "print(f\"x type: {z.type()}\")\n"
   ]
  },
  {
   "cell_type": "code",
   "execution_count": 19,
   "metadata": {},
   "outputs": [
    {
     "name": "stdout",
     "output_type": "stream",
     "text": [
      "x: tensor([[ 0.6433, -0.8048],\n",
      "        [ 0.8759,  0.5991]])\n",
      "x shape: torch.Size([2, 2])\n",
      "x type: torch.FloatTensor\n"
     ]
    }
   ],
   "source": [
    "# Dot Product\n",
    "\n",
    "x = torch.randn(2,3)\n",
    "y = torch.randn(3, 2)\n",
    "\n",
    "z = torch.mm(x, y)\n",
    "\n",
    "print(f\"x: {z}\")\n",
    "print(f\"x shape: {z.shape}\")\n",
    "print(f\"x type: {z.type()}\")\n"
   ]
  },
  {
   "cell_type": "code",
   "execution_count": 20,
   "metadata": {},
   "outputs": [
    {
     "name": "stdout",
     "output_type": "stream",
     "text": [
      "x: tensor([[ 0.1247,  0.4715,  0.7204],\n",
      "        [-1.4261,  2.5406, -0.2744]])\n",
      "x shape: torch.Size([2, 3])\n",
      "x: tensor([[ 0.1247, -1.4261],\n",
      "        [ 0.4715,  2.5406],\n",
      "        [ 0.7204, -0.2744]])\n",
      "x shape: torch.Size([3, 2])\n"
     ]
    }
   ],
   "source": [
    "# Operations\n",
    "\n",
    "x = torch.randn(2,3)\n",
    "y = torch.randn(2,3)\n",
    "\n",
    "z = x + y\n",
    "\n",
    "print(f\"x: {z}\")\n",
    "print(f\"x shape: {z.shape}\")\n",
    "\n",
    "\n",
    "z_t = torch.t(z)\n",
    "\n",
    "print(f\"x: {z_t}\")\n",
    "print(f\"x shape: {z_t.shape}\")\n"
   ]
  },
  {
   "cell_type": "code",
   "execution_count": 21,
   "metadata": {},
   "outputs": [
    {
     "name": "stdout",
     "output_type": "stream",
     "text": [
      "x: tensor([[ 1.0961, -0.2525, -0.3476],\n",
      "        [ 0.2405,  0.8378,  0.2531]])\n",
      "x shape: torch.Size([2, 3])\n",
      "x: tensor([[ 1.0961, -0.2525],\n",
      "        [-0.3476,  0.2405],\n",
      "        [ 0.8378,  0.2531]])\n",
      "x shape: torch.Size([3, 2])\n"
     ]
    }
   ],
   "source": [
    "# Reshape\n",
    "\n",
    "# Operations\n",
    "\n",
    "x = torch.randn(2,3)\n",
    "\n",
    "print(f\"x: {x}\")\n",
    "print(f\"x shape: {x.shape}\")\n",
    "\n",
    "z = x.view(3, 2)\n",
    "\n",
    "print(f\"x: {z}\")\n",
    "print(f\"x shape: {z.shape}\")"
   ]
  },
  {
   "cell_type": "code",
   "execution_count": 23,
   "metadata": {},
   "outputs": [
    {
     "name": "stdout",
     "output_type": "stream",
     "text": [
      "Size: torch.Size([2, 3, 4])\n",
      "x: \n",
      "tensor([[[ 1,  1,  1,  1],\n",
      "         [ 2,  2,  2,  2],\n",
      "         [ 3,  3,  3,  3]],\n",
      "\n",
      "        [[10, 10, 10, 10],\n",
      "         [20, 20, 20, 20],\n",
      "         [30, 30, 30, 30]]])\n",
      "\n",
      "\n",
      "Size: torch.Size([3, 8])\n",
      "a: \n",
      "tensor([[ 1,  1,  1,  1,  2,  2,  2,  2],\n",
      "        [ 3,  3,  3,  3, 10, 10, 10, 10],\n",
      "        [20, 20, 20, 20, 30, 30, 30, 30]])\n",
      "\n",
      "\n",
      "Size: torch.Size([3, 2, 4])\n",
      "b: \n",
      "tensor([[[ 1,  1,  1,  1],\n",
      "         [10, 10, 10, 10]],\n",
      "\n",
      "        [[ 2,  2,  2,  2],\n",
      "         [20, 20, 20, 20]],\n",
      "\n",
      "        [[ 3,  3,  3,  3],\n",
      "         [30, 30, 30, 30]]])\n",
      "\n",
      "\n",
      "Size: torch.Size([3, 8])\n",
      "c: \n",
      "tensor([[ 1,  1,  1,  1, 10, 10, 10, 10],\n",
      "        [ 2,  2,  2,  2, 20, 20, 20, 20],\n",
      "        [ 3,  3,  3,  3, 30, 30, 30, 30]])\n"
     ]
    }
   ],
   "source": [
    "x = torch.tensor([\n",
    "    [[1,1,1,1], [2,2,2,2], [3,3,3,3]],\n",
    "    [[10,10,10,10], [20,20,20,20], [30,30,30,30]]\n",
    "])\n",
    "print(f\"Size: {x.shape}\")\n",
    "print(f\"x: \\n{x}\\n\")\n",
    "\n",
    "a = x.view(x.size(1), -1)\n",
    "print(f\"\\nSize: {a.shape}\")\n",
    "print(f\"a: \\n{a}\\n\")\n",
    "\n",
    "b = x.transpose(0,1).contiguous()\n",
    "print(f\"\\nSize: {b.shape}\")\n",
    "print(f\"b: \\n{b}\\n\")\n",
    "\n",
    "c = b.view(b.size(0), -1)\n",
    "print(f\"\\nSize: {c.shape}\")\n",
    "print(f\"c: \\n{c}\")"
   ]
  },
  {
   "cell_type": "code",
   "execution_count": 25,
   "metadata": {},
   "outputs": [
    {
     "name": "stdout",
     "output_type": "stream",
     "text": [
      "tensor([ 1.2245, -2.6104,  0.5606])\n",
      "tensor([ 1.5975, -2.4228])\n"
     ]
    }
   ],
   "source": [
    "# Dimensional operation\n",
    "\n",
    "x = torch.randn(2,3)\n",
    "\n",
    "print(torch.sum(x, dim=0)) # sum by rows\n",
    "print(torch.sum(x, dim=1)) #sum by columns"
   ]
  },
  {
   "cell_type": "code",
   "execution_count": 35,
   "metadata": {},
   "outputs": [
    {
     "name": "stdout",
     "output_type": "stream",
     "text": [
      "tensor([[ 1.8475, -0.4165, -0.6878,  0.4896,  0.1208, -0.1288,  0.5506],\n",
      "        [ 0.5848,  0.7463, -0.3194, -1.6351,  0.9498,  0.5226,  0.8096],\n",
      "        [-0.2982, -1.1556, -0.1704, -0.2624, -1.6847, -0.7612, -0.5449],\n",
      "        [-0.5667,  0.2012, -0.3032,  1.2812, -1.4127, -0.1953,  0.5376]])\n",
      "x[:1] tensor([[ 1.8475, -0.4165, -0.6878,  0.4896,  0.1208, -0.1288,  0.5506]])\n",
      "x[:3, 4:6] tensor([[ 0.1208, -0.1288],\n",
      "        [ 0.9498,  0.5226],\n",
      "        [-1.6847, -0.7612]])\n"
     ]
    }
   ],
   "source": [
    "# Indexing\n",
    "\n",
    "x = torch.randn(4,7)\n",
    "print(x)\n",
    "\n",
    "print(f\"x[:1] {x[:1]}\")\n",
    "\n",
    "print(f\"x[:3, 4:6] {x[:3, 4:6]}\")"
   ]
  },
  {
   "cell_type": "code",
   "execution_count": 44,
   "metadata": {},
   "outputs": [
    {
     "name": "stdout",
     "output_type": "stream",
     "text": [
      "x = tensor([[ 1.4758, -0.2786, -1.8662, -0.1659, -0.8642,  1.4845, -1.3522],\n",
      "        [ 1.4226,  1.9030,  0.4085,  0.8041, -0.2803,  1.6250,  0.4153],\n",
      "        [ 0.2785, -1.0900, -0.6049, -1.8552, -1.1751, -0.3588, -0.3266],\n",
      "        [-0.5079,  1.0423, -2.0301,  0.1769,  0.2982,  4.1695,  1.1074]])\n",
      "sliced values:\n",
      " tensor([[ 1.4758, -1.8662],\n",
      "        [ 1.4226,  0.4085],\n",
      "        [ 0.2785, -0.6049],\n",
      "        [-0.5079, -2.0301]])\n",
      "sliced values:\n",
      " tensor([-0.1659, -0.3266])\n"
     ]
    }
   ],
   "source": [
    "# slicing\n",
    "\n",
    "x = torch.randn(4,7)\n",
    "print(f\"x = {x}\")\n",
    "\n",
    "col_indices = torch.LongTensor([0,2])\n",
    "chosen = torch.index_select(x, dim=1, index=col_indices)\n",
    "print(f\"sliced values:\\n {chosen}\")\n",
    "\n",
    "\n",
    "row_indices = torch.LongTensor([0,2])\n",
    "col_indices = torch.LongTensor([3,6])\n",
    "chosen = x[row_indices, col_indices]\n",
    "print(f\"sliced values:\\n {chosen}\")"
   ]
  },
  {
   "cell_type": "code",
   "execution_count": 46,
   "metadata": {},
   "outputs": [
    {
     "name": "stdout",
     "output_type": "stream",
     "text": [
      "tensor([[ 0.8909, -0.7094],\n",
      "        [ 0.2914,  1.1309],\n",
      "        [ 0.0885, -2.1020],\n",
      "        [ 0.9740, -0.9215],\n",
      "        [ 0.8909, -0.7094],\n",
      "        [ 0.2914,  1.1309],\n",
      "        [ 0.0885, -2.1020],\n",
      "        [ 0.9740, -0.9215]])\n",
      "tensor([[ 0.8909, -0.7094,  0.8909, -0.7094],\n",
      "        [ 0.2914,  1.1309,  0.2914,  1.1309],\n",
      "        [ 0.0885, -2.1020,  0.0885, -2.1020],\n",
      "        [ 0.9740, -0.9215,  0.9740, -0.9215]])\n"
     ]
    }
   ],
   "source": [
    "# Contat\n",
    "\n",
    "x = torch.randn(4,2)\n",
    "\n",
    "print(torch.cat([x,x], dim=0))\n",
    "print(torch.cat([x,x], dim=1))"
   ]
  },
  {
   "cell_type": "code",
   "execution_count": 48,
   "metadata": {},
   "outputs": [
    {
     "name": "stdout",
     "output_type": "stream",
     "text": [
      "tensor([[[-0.2837, -0.4087],\n",
      "         [ 0.3731,  2.4777],\n",
      "         [ 0.3829,  0.9551],\n",
      "         [ 1.4261, -0.4581]],\n",
      "\n",
      "        [[-0.2837, -0.4087],\n",
      "         [ 0.3731,  2.4777],\n",
      "         [ 0.3829,  0.9551],\n",
      "         [ 1.4261, -0.4581]]])\n",
      "torch.Size([2, 4, 2])\n"
     ]
    }
   ],
   "source": [
    "# stack\n",
    "\n",
    "x = torch.randn(4,2)\n",
    "\n",
    "print(torch.stack([x,x], dim=0))\n",
    "print(torch.stack([x,x], dim=0).shape)\n"
   ]
  },
  {
   "cell_type": "code",
   "execution_count": 50,
   "metadata": {},
   "outputs": [
    {
     "name": "stdout",
     "output_type": "stream",
     "text": [
      "tensor([[0.0227, 0.9779, 0.0246, 0.0306],\n",
      "        [0.3812, 0.8859, 0.2566, 0.0388],\n",
      "        [0.2013, 0.2942, 0.2942, 0.4623]], requires_grad=True)\n",
      "tensor([[0.2500, 0.2500, 0.2500, 0.2500],\n",
      "        [0.2500, 0.2500, 0.2500, 0.2500],\n",
      "        [0.2500, 0.2500, 0.2500, 0.2500]])\n"
     ]
    }
   ],
   "source": [
    "# Gradient\n",
    "\n",
    "x = torch.rand(3,4, requires_grad=True)\n",
    "y = 3*x + 2\n",
    "z = y.mean()\n",
    "z.backward()\n",
    "print(x)\n",
    "print(x.grad)"
   ]
  },
  {
   "cell_type": "code",
   "execution_count": 51,
   "metadata": {},
   "outputs": [
    {
     "name": "stdout",
     "output_type": "stream",
     "text": [
      "True\n"
     ]
    }
   ],
   "source": [
    "# CUDA\n",
    "print(torch.cuda.is_available())"
   ]
  },
  {
   "cell_type": "code",
   "execution_count": 52,
   "metadata": {},
   "outputs": [
    {
     "name": "stdout",
     "output_type": "stream",
     "text": [
      "cuda\n"
     ]
    }
   ],
   "source": [
    "# set device\n",
    "device = torch.device(\"cuda\" if torch.cuda.is_available() else \"cpu\")\n",
    "print(device)"
   ]
  },
  {
   "cell_type": "code",
   "execution_count": null,
   "metadata": {},
   "outputs": [],
   "source": []
  }
 ],
 "metadata": {
  "kernelspec": {
   "display_name": "practice",
   "language": "python",
   "name": "python3"
  },
  "language_info": {
   "codemirror_mode": {
    "name": "ipython",
    "version": 3
   },
   "file_extension": ".py",
   "mimetype": "text/x-python",
   "name": "python",
   "nbconvert_exporter": "python",
   "pygments_lexer": "ipython3",
   "version": "3.9.13"
  },
  "orig_nbformat": 4,
  "vscode": {
   "interpreter": {
    "hash": "c06ae637b7da8eb950c0dd98a45979aa0f644ed5e4b97c8a5f19bad93d3c1c0d"
   }
  }
 },
 "nbformat": 4,
 "nbformat_minor": 2
}
